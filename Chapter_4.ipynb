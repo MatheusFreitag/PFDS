{
  "nbformat": 4,
  "nbformat_minor": 0,
  "metadata": {
    "colab": {
      "name": "Chapter 4.ipynb",
      "version": "0.3.2",
      "provenance": []
    },
    "kernelspec": {
      "name": "python3",
      "display_name": "Python 3"
    }
  },
  "cells": [
    {
      "metadata": {
        "id": "ka1VOVg700Mv",
        "colab_type": "text"
      },
      "cell_type": "markdown",
      "source": [
        "## Operations between Arrays and Scalars"
      ]
    },
    {
      "metadata": {
        "id": "qiqMj_nl09n_",
        "colab_type": "code",
        "colab": {
          "base_uri": "https://localhost:8080/",
          "height": 56
        },
        "outputId": "f8e7ed88-1c04-4981-ff61-514ceaac0131"
      },
      "cell_type": "code",
      "source": [
        "import numpy as np\n",
        "\n",
        "#Any arithmetic operations between equal-size arrays applies the operation elementwise:\n",
        "arr = np.array([[1., 2., 3.], [4., 5., 6.]])\n",
        "arr\n",
        "arr * arr"
      ],
      "execution_count": 26,
      "outputs": [
        {
          "output_type": "execute_result",
          "data": {
            "text/plain": [
              "array([[ 1.,  4.,  9.],\n",
              "       [16., 25., 36.]])"
            ]
          },
          "metadata": {
            "tags": []
          },
          "execution_count": 26
        }
      ]
    },
    {
      "metadata": {
        "id": "uqMJenYx1OS-",
        "colab_type": "code",
        "colab": {
          "base_uri": "https://localhost:8080/",
          "height": 56
        },
        "outputId": "3d4644bc-0388-4fc2-e9b5-578748e0bfe6"
      },
      "cell_type": "code",
      "source": [
        "#Arithmetic operations with scalars propagate the value to each element:\n",
        "\n",
        "1 / arr"
      ],
      "execution_count": 27,
      "outputs": [
        {
          "output_type": "execute_result",
          "data": {
            "text/plain": [
              "array([[1.        , 0.5       , 0.33333333],\n",
              "       [0.25      , 0.2       , 0.16666667]])"
            ]
          },
          "metadata": {
            "tags": []
          },
          "execution_count": 27
        }
      ]
    },
    {
      "metadata": {
        "id": "M5CBgl4a1sn1",
        "colab_type": "text"
      },
      "cell_type": "markdown",
      "source": [
        "## Basic Indexing and Slicing"
      ]
    },
    {
      "metadata": {
        "id": "UpL6gGj61wIN",
        "colab_type": "code",
        "colab": {
          "base_uri": "https://localhost:8080/",
          "height": 75
        },
        "outputId": "d472a804-d4b2-4f18-e927-15d20320f7bc"
      },
      "cell_type": "code",
      "source": [
        "arr = np.arange(10)\n",
        "#Out: array([0, 1, 2, 3, 4, 5, 6, 7, 8, 9])\n",
        "\n",
        "\n",
        "\n",
        "arr[5:8]\n",
        "#Out: array([5, 6, 7])\n",
        "\n",
        "\n",
        "arr[5:8] = 12\n",
        "#Out: array([ 0,  1,  2,  3,  4, 12, 12, 12,  8,  9])\n",
        "\n",
        "\n",
        "\n",
        "# An important first distinction from lists is that array slices are views on the \n",
        "# original array. This means that the data is not copied, and any modifications \n",
        "# to the view will be reflected in the source array:\n",
        "\n",
        "arr_slice = arr[5:8]\n",
        "arr_slice[1] = 12345\n",
        "arr\n",
        "#Out: array([0, 1, 2, 3, 4, 12, 12345, 12, 8, 9])\n",
        "\n",
        "arr_slice[:] = 64\n",
        "#Out: array([ 0,  1,  2,  3,  4, 64, 64, 64,  8,  9])\n",
        "\n",
        "#If you want a copy of a slice of an ndarray instead of a view, you will need to\n",
        "#explicitly copy the array; for example arr[5:8].copy().\n",
        "\n",
        "\n",
        "\n",
        "#Slice in more than one axis\n",
        "data = np.array([[1,2,3], [4,5,5], [7,8,9]])\n",
        "\n",
        "data[:2] #Out: array([[1, 2, 3],[4, 5, 5]])\n",
        "\n",
        "data[:2, 1:] #Out: array([[2, 3], [5, 5]])\n",
        "\n",
        "data[:, :1] #Out: array([[1], [4], [7]])\n",
        "\n"
      ],
      "execution_count": 44,
      "outputs": [
        {
          "output_type": "execute_result",
          "data": {
            "text/plain": [
              "array([[1],\n",
              "       [4],\n",
              "       [7]])"
            ]
          },
          "metadata": {
            "tags": []
          },
          "execution_count": 44
        }
      ]
    },
    {
      "metadata": {
        "id": "pe58_0-pHhzv",
        "colab_type": "text"
      },
      "cell_type": "markdown",
      "source": [
        "## Boolean Indexing"
      ]
    },
    {
      "metadata": {
        "id": "QrxTWLiOHjSk",
        "colab_type": "code",
        "colab": {
          "base_uri": "https://localhost:8080/",
          "height": 153
        },
        "outputId": "654c0346-8c35-427c-db10-528539d64125"
      },
      "cell_type": "code",
      "source": [
        "names = np.array(['Bob', 'Joe', 'Will', 'Bob', 'Will', 'Joe', 'Joe'])\n",
        "\n",
        "data = np.random.rand(7, 4)\n",
        "\n",
        "names == \"Bob\"  #Out: array([ True, False, False,  True, False, False, False])\n",
        "\n",
        "data[data < 0.5] = 0  #Out: Every number less than 0.5 becomes 0\n",
        "\n"
      ],
      "execution_count": 55,
      "outputs": [
        {
          "output_type": "execute_result",
          "data": {
            "text/plain": [
              "array([[0.        , 0.53979919, 0.65290021, 0.        ],\n",
              "       [0.7373683 , 0.        , 0.        , 0.        ],\n",
              "       [0.        , 0.89343221, 0.89953869, 0.        ],\n",
              "       [0.76910467, 0.894111  , 0.50514548, 0.        ],\n",
              "       [0.        , 0.        , 0.        , 0.        ],\n",
              "       [0.74663111, 0.        , 0.75796613, 0.        ],\n",
              "       [0.        , 0.78598591, 0.5960114 , 0.74646404]])"
            ]
          },
          "metadata": {
            "tags": []
          },
          "execution_count": 55
        }
      ]
    },
    {
      "metadata": {
        "id": "Um8De6dMNiPq",
        "colab_type": "text"
      },
      "cell_type": "markdown",
      "source": [
        "## Transposing Arrays and Swapping Axes"
      ]
    },
    {
      "metadata": {
        "id": "MnG7jTZzNjRI",
        "colab_type": "code",
        "colab": {
          "base_uri": "https://localhost:8080/",
          "height": 75
        },
        "outputId": "e397441c-db9e-4cc3-d49b-7b02dd308338"
      },
      "cell_type": "code",
      "source": [
        "arr = np.arange(15).reshape((3,5))\n",
        "arr\n",
        "\n",
        "\n",
        "#Transpose\n",
        "arr.T\n",
        "\n",
        "\n",
        "#arr * arrT\n",
        "np.dot(arr, arr.T)"
      ],
      "execution_count": 60,
      "outputs": [
        {
          "output_type": "execute_result",
          "data": {
            "text/plain": [
              "array([[ 30,  80, 130],\n",
              "       [ 80, 255, 430],\n",
              "       [130, 430, 730]])"
            ]
          },
          "metadata": {
            "tags": []
          },
          "execution_count": 60
        }
      ]
    },
    {
      "metadata": {
        "id": "K-QPXj8DNtGQ",
        "colab_type": "code",
        "colab": {
          "base_uri": "https://localhost:8080/",
          "height": 191
        },
        "outputId": "c1d9bff5-1aef-4246-efef-c1bb8125a80d"
      },
      "cell_type": "code",
      "source": [
        "arr = np.arange(16).reshape((2, 2, 4))\n",
        "arr\n",
        "#Out:\n",
        "# array([[[ 0,  1,  2,  3],\n",
        "#         [ 4,  5,  6,  7]],\n",
        "\n",
        "#        [[ 8,  9, 10, 11],\n",
        "#         [12, 13, 14, 15]]])\n",
        "\n",
        "\n",
        "\n",
        "arr.swapaxes(1,2) #swapaxes similarly returns a view on the data without making a copy.\n",
        "#Out:\n",
        "# array([[[ 0,  4],\n",
        "#         [ 1,  5],\n",
        "#         [ 2,  6],\n",
        "#         [ 3,  7]],\n",
        "\n",
        "#        [[ 8, 12],\n",
        "#         [ 9, 13],\n",
        "#         [10, 14],\n",
        "#         [11, 15]]])\n",
        "\n",
        "\n"
      ],
      "execution_count": 71,
      "outputs": [
        {
          "output_type": "execute_result",
          "data": {
            "text/plain": [
              "array([[[ 0,  4],\n",
              "        [ 1,  5],\n",
              "        [ 2,  6],\n",
              "        [ 3,  7]],\n",
              "\n",
              "       [[ 8, 12],\n",
              "        [ 9, 13],\n",
              "        [10, 14],\n",
              "        [11, 15]]])"
            ]
          },
          "metadata": {
            "tags": []
          },
          "execution_count": 71
        }
      ]
    },
    {
      "metadata": {
        "id": "UIE9u8aLPqJO",
        "colab_type": "text"
      },
      "cell_type": "markdown",
      "source": [
        "## Universal Functions"
      ]
    },
    {
      "metadata": {
        "id": "8M7HcxP2Pr5Z",
        "colab_type": "code",
        "colab": {
          "base_uri": "https://localhost:8080/",
          "height": 56
        },
        "outputId": "1f2019da-a108-47e6-a070-83d3bed6ef6d"
      },
      "cell_type": "code",
      "source": [
        "# A universal function, or ufunc, is a function that performs elementwise operations on\n",
        "# data in ndarrays. You can think of them as fast vectorized wrappers for simple functions\n",
        "# that take one or more scalar values and produce one or more scalar results.\n",
        "\n",
        "\n",
        "#Unary ufuncs\n",
        "arr = np.arange(10)\n",
        "arr #Out: array([0, 1, 2, 3, 4, 5, 6, 7, 8, 9])\n",
        "\n",
        "np.sqrt(arr) #Out array([0., 1., 1.41421356, 1.73205081, 2.,2.23606798, 2.44948974, 2.64575131, 2.82842712, 3.])\n",
        "\n",
        "np.exp(arr)\n",
        "#Out: \n",
        "# array([1.00000000e+00, 2.71828183e+00, 7.38905610e+00, 2.00855369e+01,\n",
        "#        5.45981500e+01, 1.48413159e+02, 4.03428793e+02, 1.09663316e+03,\n",
        "#        2.98095799e+03, 8.10308393e+03])\n",
        "\n",
        "\n",
        "#Bynary ufuncs\n",
        "x = np.random.randn(8)\n",
        "y = np.random.randn(8)\n",
        "\n",
        "np.maximum(x,y) #Element-wise maximum\n",
        "#Out: array([ 2.0656571 , -0.23289274, -0.19812883,  0.3144531 ,  2.80683728, -0.55570163,  1.82761133,  2.761114  ])\n",
        "\n",
        "\n",
        "#Returns multiple arrays\n",
        "arr = np.random.randn(7) * 5\n",
        "np.modf(arr)\n",
        "#Out:\n",
        "# (array([ 0.67901621, -0.65598734,  0.01612545,  0.91398808,  0.2726877 ,\n",
        "#         -0.16657176, -0.62403379]), array([ 3., -4.,  5.,  0.,  0., -4., -5.]))\n",
        "\n"
      ],
      "execution_count": 80,
      "outputs": [
        {
          "output_type": "execute_result",
          "data": {
            "text/plain": [
              "(array([ 0.67901621, -0.65598734,  0.01612545,  0.91398808,  0.2726877 ,\n",
              "        -0.16657176, -0.62403379]), array([ 3., -4.,  5.,  0.,  0., -4., -5.]))"
            ]
          },
          "metadata": {
            "tags": []
          },
          "execution_count": 80
        }
      ]
    },
    {
      "metadata": {
        "id": "7sGKqavqVHSX",
        "colab_type": "text"
      },
      "cell_type": "markdown",
      "source": [
        "## Data Processing Using Arrays"
      ]
    },
    {
      "metadata": {
        "id": "QKmQ6oePVJdY",
        "colab_type": "code",
        "colab": {
          "base_uri": "https://localhost:8080/",
          "height": 269
        },
        "outputId": "bfd4b6b0-5aac-46fa-8aaf-3dd1736022c3"
      },
      "cell_type": "code",
      "source": [
        "points = np.arange(-5,5,0.01)\n",
        "\n",
        "\n",
        "xs, ys = np.meshgrid(points,points)\n",
        "\n",
        "\n",
        "z = np.sqrt(xs**2 + ys**2)\n",
        "z"
      ],
      "execution_count": 87,
      "outputs": [
        {
          "output_type": "execute_result",
          "data": {
            "text/plain": [
              "array([[7.07106781, 7.07106781, 7.07106781, ..., 7.07106781, 7.07106781,\n",
              "        7.07106781],\n",
              "       [7.05692568, 7.05692568, 7.05692568, ..., 7.05692568, 7.05692568,\n",
              "        7.05692568],\n",
              "       [7.04278354, 7.04278354, 7.04278354, ..., 7.04278354, 7.04278354,\n",
              "        7.04278354],\n",
              "       ...,\n",
              "       [7.0286414 , 7.0286414 , 7.0286414 , ..., 7.0286414 , 7.0286414 ,\n",
              "        7.0286414 ],\n",
              "       [7.04278354, 7.04278354, 7.04278354, ..., 7.04278354, 7.04278354,\n",
              "        7.04278354],\n",
              "       [7.05692568, 7.05692568, 7.05692568, ..., 7.05692568, 7.05692568,\n",
              "        7.05692568]])"
            ]
          },
          "metadata": {
            "tags": []
          },
          "execution_count": 87
        }
      ]
    },
    {
      "metadata": {
        "id": "kyIv-xCSWTCm",
        "colab_type": "code",
        "colab": {
          "base_uri": "https://localhost:8080/",
          "height": 389
        },
        "outputId": "13e044de-6d9a-4026-946e-f733d5226ab4"
      },
      "cell_type": "code",
      "source": [
        "import matplotlib.pyplot as plt\n",
        "plt.imshow(z, cmap=plt.cm.gray); plt.colorbar()\n",
        "plt.title(\"Image plot of $\\sqrt{x^2 + y^2}$ for a grid of values\")"
      ],
      "execution_count": 90,
      "outputs": [
        {
          "output_type": "execute_result",
          "data": {
            "text/plain": [
              "Text(0.5,1,'Image plot of $\\\\sqrt{x^2 + y^2}$ for a grid of values')"
            ]
          },
          "metadata": {
            "tags": []
          },
          "execution_count": 90
        },
        {
          "output_type": "display_data",
          "data": {
            "image/png": "[encoded data removed]",
            "text/plain": [
              "<matplotlib.figure.Figure at 0x7f5a5f4816a0>"
            ]
          },
          "metadata": {
            "tags": []
          }
        }
      ]
    },
    {
      "metadata": {
        "id": "3Lqhpo-IXG2e",
        "colab_type": "text"
      },
      "cell_type": "markdown",
      "source": [
        "## Expressing Conditional Logic as Array Operations"
      ]
    },
    {
      "metadata": {
        "id": "1tE4QjjXXIv9",
        "colab_type": "code",
        "colab": {
          "base_uri": "https://localhost:8080/",
          "height": 94
        },
        "outputId": "c40a5a4c-082c-486a-da90-21e4f5ef0400"
      },
      "cell_type": "code",
      "source": [
        "xarr = np.array([1.1, 1.2, 1.3, 1.4, 1.5])\n",
        "yarr = np.array([2.1, 2.2, 2.3, 2.4, 2.5])\n",
        "cond = np.array([True, False, True, True, False])\n",
        "\n",
        "#Pure Python\n",
        "result = [(x if c else y) for x, y, c in zip(xarr, yarr, cond)]\n",
        "\n",
        "\n",
        "#Vectorized Numpy\n",
        "result = np.where(cond, xarr, yarr)\n",
        "\n",
        "\n",
        "\n",
        "#Get a matrix with random numbers and where numbers are negatiev replace to -2\n",
        "#and if positive replace with 2\n",
        "\n",
        "arr = np.random.randn(4, 4)\n",
        "\n",
        "np.where(arr>0, 2, -2)"
      ],
      "execution_count": 97,
      "outputs": [
        {
          "output_type": "execute_result",
          "data": {
            "text/plain": [
              "array([[ 2,  2,  2, -2],\n",
              "       [ 2, -2,  2,  2],\n",
              "       [-2,  2,  2, -2],\n",
              "       [ 2,  2,  2, -2]])"
            ]
          },
          "metadata": {
            "tags": []
          },
          "execution_count": 97
        }
      ]
    },
    {
      "metadata": {
        "id": "ad1h1VkuYzvc",
        "colab_type": "code",
        "colab": {}
      },
      "cell_type": "code",
      "source": [
        ""
      ],
      "execution_count": 0,
      "outputs": []
    },
    {
      "metadata": {
        "id": "bWRWahHA4z3n",
        "colab_type": "text"
      },
      "cell_type": "markdown",
      "source": [
        "## Mathematical and Statistical Methods"
      ]
    },
    {
      "metadata": {
        "id": "hz-wmEYN43OU",
        "colab_type": "code",
        "colab": {
          "base_uri": "https://localhost:8080/",
          "height": 74
        },
        "outputId": "c83a80c6-85ed-41f0-b5a9-31632151ff6b"
      },
      "cell_type": "code",
      "source": [
        "import numpy as np\n",
        "arr = np.array([[1,1,1],[2,2,2],[3,3,3]])\n",
        "arr.mean()\n",
        "arr.sum()\n",
        "\n",
        "arr = np.array([[0, 1, 2], [3, 4, 5], [6, 7, 8]])\n",
        "arr.cumsum(0)\n",
        "#Out:\n",
        "# array([[ 0,  1,  2],\n",
        "#        [ 3,  5,  7],\n",
        "#        [ 9, 12, 15]])\n",
        "\n",
        "\n",
        "arr"
      ],
      "execution_count": 1,
      "outputs": [
        {
          "output_type": "execute_result",
          "data": {
            "text/plain": [
              "array([[0, 1, 2],\n",
              "       [3, 4, 5],\n",
              "       [6, 7, 8]])"
            ]
          },
          "metadata": {
            "tags": []
          },
          "execution_count": 1
        }
      ]
    },
    {
      "metadata": {
        "id": "GTx4raxz46mh",
        "colab_type": "code",
        "colab": {}
      },
      "cell_type": "code",
      "source": [
        ""
      ],
      "execution_count": 0,
      "outputs": []
    },
    {
      "metadata": {
        "id": "ZTqyH5KQ6E4I",
        "colab_type": "text"
      },
      "cell_type": "markdown",
      "source": [
        "## File Input and Output with Arrays"
      ]
    },
    {
      "metadata": {
        "id": "ysfXM35f6Fyr",
        "colab_type": "code",
        "colab": {
          "base_uri": "https://localhost:8080/",
          "height": 36
        },
        "outputId": "4d6b5618-b52e-4156-8de8-8fe86046e980"
      },
      "cell_type": "code",
      "source": [
        "#Binary Files\n",
        "\n",
        "arr = np.arange(10)\n",
        "\n",
        "np.save('some_array', arr)\n",
        "\n",
        "np.load('some_array.npy')"
      ],
      "execution_count": 12,
      "outputs": [
        {
          "output_type": "execute_result",
          "data": {
            "text/plain": [
              "array([0, 1, 2, 3, 4, 5, 6, 7, 8, 9])"
            ]
          },
          "metadata": {
            "tags": []
          },
          "execution_count": 12
        }
      ]
    },
    {
      "metadata": {
        "id": "UR8md65k6IgZ",
        "colab_type": "code",
        "colab": {
          "base_uri": "https://localhost:8080/",
          "height": 36
        },
        "outputId": "ff0ffbe6-15dc-4981-c272-a021b05166f1"
      },
      "cell_type": "code",
      "source": [
        "#txt files\n",
        "\n",
        "#arr = np.loadtxt('array_ex.txt', delimiter=',')\n",
        "  \n",
        "np.savetxt(\"arrTXT\",arr)"
      ],
      "execution_count": 19,
      "outputs": [
        {
          "output_type": "stream",
          "text": [
            "arrTXT  \u001b[0m\u001b[01;34mdatalab\u001b[0m/  some_array.npy\r\n"
          ],
          "name": "stdout"
        }
      ]
    },
    {
      "metadata": {
        "id": "d-It37aO9hMq",
        "colab_type": "text"
      },
      "cell_type": "markdown",
      "source": [
        "## Linear Algebra"
      ]
    },
    {
      "metadata": {
        "id": "2PpGgOVC9i4l",
        "colab_type": "code",
        "colab": {
          "base_uri": "https://localhost:8080/",
          "height": 55
        },
        "outputId": "e501b6b6-b2a2-400e-a66c-e5a3a1b44dc6"
      },
      "cell_type": "code",
      "source": [
        "x = np.array([[1., 2., 3.], [4., 5., 6.]])\n",
        "y = np.array([[6., 23.], [-1, 7], [8, 9]])\n",
        "\n",
        "x.dot(y) # equivalently np.dot(x, y)"
      ],
      "execution_count": 22,
      "outputs": [
        {
          "output_type": "execute_result",
          "data": {
            "text/plain": [
              "array([[ 28.,  64.],\n",
              "       [ 67., 181.]])"
            ]
          },
          "metadata": {
            "tags": []
          },
          "execution_count": 22
        }
      ]
    },
    {
      "metadata": {
        "id": "FXUnicDj9liS",
        "colab_type": "code",
        "colab": {
          "base_uri": "https://localhost:8080/",
          "height": 36
        },
        "outputId": "f0e561d3-9212-4735-c018-db0d3896382f"
      },
      "cell_type": "code",
      "source": [
        "np.dot(x,np.ones(3))\n",
        "\n",
        "#Check numpy.linalg"
      ],
      "execution_count": 28,
      "outputs": [
        {
          "output_type": "execute_result",
          "data": {
            "text/plain": [
              "array([ 6., 15.])"
            ]
          },
          "metadata": {
            "tags": []
          },
          "execution_count": 28
        }
      ]
    },
    {
      "metadata": {
        "id": "WOapqGlM_30y",
        "colab_type": "text"
      },
      "cell_type": "markdown",
      "source": [
        "## Random Numbers Generation"
      ]
    },
    {
      "metadata": {
        "id": "ia2PenhG_7Sk",
        "colab_type": "code",
        "colab": {
          "base_uri": "https://localhost:8080/",
          "height": 92
        },
        "outputId": "ae4306bc-bf1e-4b7a-e23a-b6164f4993c5"
      },
      "cell_type": "code",
      "source": [
        "samples = np.random.normal(size=(4, 4))\n",
        "samples"
      ],
      "execution_count": 30,
      "outputs": [
        {
          "output_type": "execute_result",
          "data": {
            "text/plain": [
              "array([[ 0.79294793, -2.33809698,  0.05716091,  1.06501443],\n",
              "       [-1.88914017,  0.08446675, -0.87341687,  0.30223448],\n",
              "       [ 1.81446457, -0.6922201 , -0.04493779,  0.71765445],\n",
              "       [-0.91330017,  1.33253103,  1.3489485 ,  1.77495619]])"
            ]
          },
          "metadata": {
            "tags": []
          },
          "execution_count": 30
        }
      ]
    },
    {
      "metadata": {
        "id": "W90tLrPyAIA5",
        "colab_type": "code",
        "colab": {
          "base_uri": "https://localhost:8080/",
          "height": 36
        },
        "outputId": "3aea1256-ad05-4958-dda9-08b1040ad26d"
      },
      "cell_type": "code",
      "source": [
        "nsteps = 1000\n",
        "draws = np.random.randint(0, 2, size=nsteps)\n",
        "steps = np.where(draws > 0, 1, -1)\n",
        "walk = steps.cumsum()\n",
        "\n",
        "walk.max()"
      ],
      "execution_count": 36,
      "outputs": [
        {
          "output_type": "execute_result",
          "data": {
            "text/plain": [
              "13"
            ]
          },
          "metadata": {
            "tags": []
          },
          "execution_count": 36
        }
      ]
    },
    {
      "metadata": {
        "id": "1vvTZZurBdh6",
        "colab_type": "code",
        "colab": {}
      },
      "cell_type": "code",
      "source": [
        ""
      ],
      "execution_count": 0,
      "outputs": []
    }
  ]
}