{
  "nbformat": 4,
  "nbformat_minor": 0,
  "metadata": {
    "colab": {
      "name": "Scores.ipynb",
      "version": "0.3.2",
      "provenance": []
    },
    "kernelspec": {
      "name": "python3",
      "display_name": "Python 3"
    }
  },
  "cells": [
    {
      "metadata": {
        "id": "1MwUY4PkNf6y",
        "colab_type": "text"
      },
      "cell_type": "markdown",
      "source": [
        "### Step 1 & 2. Import the necessary libraries and create the DataFrame."
      ]
    },
    {
      "metadata": {
        "id": "v30tLgJZNzpY",
        "colab_type": "code",
        "colab": {}
      },
      "cell_type": "code",
      "source": [
        "import pandas as pd \n",
        "import numpy as np\n",
        "import matplotlib.pyplot as plt"
      ],
      "execution_count": 0,
      "outputs": []
    },
    {
      "metadata": {
        "id": "Y2BJaPazOGHo",
        "colab_type": "code",
        "colab": {
          "base_uri": "https://localhost:8080/",
          "height": 206
        },
        "outputId": "a774d67e-53df-4d92-c0d5-47a3c4033a59"
      },
      "cell_type": "code",
      "source": [
        "df = pd.DataFrame(columns=['first_name','last_name','age','female','preTestScore','postTestScore'])\n",
        "\n",
        "df.loc[0] = ['Jason','Miller',42,0,4,25]\n",
        "df.loc[1] = ['Molly','Jacobson',52,1,24,94]\n",
        "df.loc[2] = ['Tina','Ali',36,1,31,57]\n",
        "df.loc[3] = ['Jake','Milner',24,0,2,62]\n",
        "df.loc[4] = ['Amy','Cooze',73,1,3,70]\n",
        "\n",
        "df"
      ],
      "execution_count": 19,
      "outputs": [
        {
          "output_type": "execute_result",
          "data": {
            "text/html": [
              "<div>\n",
              "<style scoped>\n",
              "    .dataframe tbody tr th:only-of-type {\n",
              "        vertical-align: middle;\n",
              "    }\n",
              "\n",
              "    .dataframe tbody tr th {\n",
              "        vertical-align: top;\n",
              "    }\n",
              "\n",
              "    .dataframe thead th {\n",
              "        text-align: right;\n",
              "    }\n",
              "</style>\n",
              "<table border=\"1\" class=\"dataframe\">\n",
              "  <thead>\n",
              "    <tr style=\"text-align: right;\">\n",
              "      <th></th>\n",
              "      <th>first_name</th>\n",
              "      <th>last_name</th>\n",
              "      <th>age</th>\n",
              "      <th>female</th>\n",
              "      <th>preTestScore</th>\n",
              "      <th>postTestScore</th>\n",
              "    </tr>\n",
              "  </thead>\n",
              "  <tbody>\n",
              "    <tr>\n",
              "      <th>0</th>\n",
              "      <td>Jason</td>\n",
              "      <td>Miller</td>\n",
              "      <td>42</td>\n",
              "      <td>0</td>\n",
              "      <td>4</td>\n",
              "      <td>25</td>\n",
              "    </tr>\n",
              "    <tr>\n",
              "      <th>1</th>\n",
              "      <td>Molly</td>\n",
              "      <td>Jacobson</td>\n",
              "      <td>52</td>\n",
              "      <td>1</td>\n",
              "      <td>24</td>\n",
              "      <td>94</td>\n",
              "    </tr>\n",
              "    <tr>\n",
              "      <th>2</th>\n",
              "      <td>Tina</td>\n",
              "      <td>Ali</td>\n",
              "      <td>36</td>\n",
              "      <td>1</td>\n",
              "      <td>31</td>\n",
              "      <td>57</td>\n",
              "    </tr>\n",
              "    <tr>\n",
              "      <th>3</th>\n",
              "      <td>Jake</td>\n",
              "      <td>Milner</td>\n",
              "      <td>24</td>\n",
              "      <td>0</td>\n",
              "      <td>2</td>\n",
              "      <td>62</td>\n",
              "    </tr>\n",
              "    <tr>\n",
              "      <th>4</th>\n",
              "      <td>Amy</td>\n",
              "      <td>Cooze</td>\n",
              "      <td>73</td>\n",
              "      <td>1</td>\n",
              "      <td>3</td>\n",
              "      <td>70</td>\n",
              "    </tr>\n",
              "  </tbody>\n",
              "</table>\n",
              "</div>"
            ],
            "text/plain": [
              "  first_name last_name age female preTestScore postTestScore\n",
              "0      Jason    Miller  42      0            4            25\n",
              "1      Molly  Jacobson  52      1           24            94\n",
              "2       Tina       Ali  36      1           31            57\n",
              "3       Jake    Milner  24      0            2            62\n",
              "4        Amy     Cooze  73      1            3            70"
            ]
          },
          "metadata": {
            "tags": []
          },
          "execution_count": 19
        }
      ]
    },
    {
      "metadata": {
        "id": "vBg6FjSzNpkn",
        "colab_type": "text"
      },
      "cell_type": "markdown",
      "source": [
        "### Step 3. Create a Scatterplot of preTestScore and postTestScore, with the size of each point determined by age\n",
        "#### Hint: Don't forget to place the labels"
      ]
    },
    {
      "metadata": {
        "id": "OrumTq_OQlDf",
        "colab_type": "code",
        "colab": {
          "base_uri": "https://localhost:8080/",
          "height": 395
        },
        "outputId": "e4b362b3-1ef9-4603-d6b3-b54ef0f8de78"
      },
      "cell_type": "code",
      "source": [
        "df.age = df.age.astype(int)\n",
        "_ = plt.scatter(x=df.preTestScore, y=df.postTestScore, s=10*df.age)\n",
        "\n",
        "plt.title('preTestScore and postTestScore')\n",
        "plt.xlabel('preTestScore')\n",
        "plt.ylabel('posTestScore')"
      ],
      "execution_count": 43,
      "outputs": [
        {
          "output_type": "execute_result",
          "data": {
            "text/plain": [
              "Text(0,0.5,'posTestScore')"
            ]
          },
          "metadata": {
            "tags": []
          },
          "execution_count": 43
        },
        {
          "output_type": "display_data",
          "data": {
            "image/png": "[encoded data removed]",
            "text/plain": [
              "<matplotlib.figure.Figure at 0x7f5ebe842cc0>"
            ]
          },
          "metadata": {
            "tags": []
          }
        }
      ]
    },
    {
      "metadata": {
        "id": "Pi3B64saNusQ",
        "colab_type": "text"
      },
      "cell_type": "markdown",
      "source": [
        "### Step 4. Create a Scatterplot of preTestScore and postTestScore.\n",
        "#### This time the size should be 4.5 times the postTestScore and the color determined by sex"
      ]
    },
    {
      "metadata": {
        "id": "lB0BpIPVSQRs",
        "colab_type": "code",
        "colab": {
          "base_uri": "https://localhost:8080/",
          "height": 395
        },
        "outputId": "2b9e5e10-3d08-45de-ea99-cb6c8294f7a5"
      },
      "cell_type": "code",
      "source": [
        "df.postTestScore = df.postTestScore.astype('float')\n",
        "\n",
        "colors = np.where(df['female']==1, 'r', 'b')\n",
        "\n",
        "\n",
        "_ = plt.scatter(df.preTestScore, df.postTestScore, s=4.5 * df.postTestScore, c=colors)\n",
        "\n",
        "\n",
        "\n",
        "plt.title(\"preTestScore x postTestScore\")\n",
        "plt.xlabel('preTestScore')\n",
        "plt.ylabel('preTestScore')\n",
        "\n",
        "plt.ylim(0,100)"
      ],
      "execution_count": 45,
      "outputs": [
        {
          "output_type": "execute_result",
          "data": {
            "text/plain": [
              "(0, 100)"
            ]
          },
          "metadata": {
            "tags": []
          },
          "execution_count": 45
        },
        {
          "output_type": "display_data",
          "data": {
            "image/png": "[encoded data removed]",
            "text/plain": [
              "<matplotlib.figure.Figure at 0x7f5ebeb2e080>"
            ]
          },
          "metadata": {
            "tags": []
          }
        }
      ]
    },
    {
      "metadata": {
        "id": "IjmcwiHfo1CE",
        "colab_type": "code",
        "colab": {}
      },
      "cell_type": "code",
      "source": [
        ""
      ],
      "execution_count": 0,
      "outputs": []
    }
  ]
}