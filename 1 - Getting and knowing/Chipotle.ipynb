{
  "nbformat": 4,
  "nbformat_minor": 0,
  "metadata": {
    "colab": {
      "name": "Chipotle.ipynb",
      "version": "0.3.2",
      "provenance": []
    },
    "kernelspec": {
      "name": "python3",
      "display_name": "Python 3"
    }
  },
  "cells": [
    {
      "metadata": {
        "id": "0kv6ViTrE47J",
        "colab_type": "text"
      },
      "cell_type": "markdown",
      "source": [
        "### Step 1. Import the necessary libraries"
      ]
    },
    {
      "metadata": {
        "id": "vDc8xmJ1DtF1",
        "colab_type": "code",
        "colab": {}
      },
      "cell_type": "code",
      "source": [
        "import pandas as pd\n",
        "import numpy as np"
      ],
      "execution_count": 0,
      "outputs": []
    },
    {
      "metadata": {
        "id": "WqczHF99E9GO",
        "colab_type": "text"
      },
      "cell_type": "markdown",
      "source": [
        "### Step 2 & 3. Import dataset from this [address](https://raw.githubusercontent.com/justmarkham/DAT8/master/data/chipotle.tsv)"
      ]
    },
    {
      "metadata": {
        "id": "GBmlvepdFHA2",
        "colab_type": "code",
        "colab": {}
      },
      "cell_type": "code",
      "source": [
        "url = 'https://raw.githubusercontent.com/justmarkham/DAT8/master/data/chipotle.tsv'\n",
        "\n",
        "chipo = pd.read_csv(url, sep = '\\t')"
      ],
      "execution_count": 0,
      "outputs": []
    },
    {
      "metadata": {
        "id": "I3yQML6lGDpU",
        "colab_type": "text"
      },
      "cell_type": "markdown",
      "source": [
        "### Step 4. See the first 10 entries"
      ]
    },
    {
      "metadata": {
        "id": "4Cf34doQGHqC",
        "colab_type": "code",
        "colab": {
          "base_uri": "https://localhost:8080/",
          "height": 363
        },
        "outputId": "2100f7d5-3d35-4a13-b137-b0a2653e569c"
      },
      "cell_type": "code",
      "source": [
        "chipo.head(10)"
      ],
      "execution_count": 3,
      "outputs": [
        {
          "output_type": "execute_result",
          "data": {
            "text/html": [
              "<div>\n",
              "<style scoped>\n",
              "    .dataframe tbody tr th:only-of-type {\n",
              "        vertical-align: middle;\n",
              "    }\n",
              "\n",
              "    .dataframe tbody tr th {\n",
              "        vertical-align: top;\n",
              "    }\n",
              "\n",
              "    .dataframe thead th {\n",
              "        text-align: right;\n",
              "    }\n",
              "</style>\n",
              "<table border=\"1\" class=\"dataframe\">\n",
              "  <thead>\n",
              "    <tr style=\"text-align: right;\">\n",
              "      <th></th>\n",
              "      <th>order_id</th>\n",
              "      <th>quantity</th>\n",
              "      <th>item_name</th>\n",
              "      <th>choice_description</th>\n",
              "      <th>item_price</th>\n",
              "    </tr>\n",
              "  </thead>\n",
              "  <tbody>\n",
              "    <tr>\n",
              "      <th>0</th>\n",
              "      <td>1</td>\n",
              "      <td>1</td>\n",
              "      <td>Chips and Fresh Tomato Salsa</td>\n",
              "      <td>NaN</td>\n",
              "      <td>$2.39</td>\n",
              "    </tr>\n",
              "    <tr>\n",
              "      <th>1</th>\n",
              "      <td>1</td>\n",
              "      <td>1</td>\n",
              "      <td>Izze</td>\n",
              "      <td>[Clementine]</td>\n",
              "      <td>$3.39</td>\n",
              "    </tr>\n",
              "    <tr>\n",
              "      <th>2</th>\n",
              "      <td>1</td>\n",
              "      <td>1</td>\n",
              "      <td>Nantucket Nectar</td>\n",
              "      <td>[Apple]</td>\n",
              "      <td>$3.39</td>\n",
              "    </tr>\n",
              "    <tr>\n",
              "      <th>3</th>\n",
              "      <td>1</td>\n",
              "      <td>1</td>\n",
              "      <td>Chips and Tomatillo-Green Chili Salsa</td>\n",
              "      <td>NaN</td>\n",
              "      <td>$2.39</td>\n",
              "    </tr>\n",
              "    <tr>\n",
              "      <th>4</th>\n",
              "      <td>2</td>\n",
              "      <td>2</td>\n",
              "      <td>Chicken Bowl</td>\n",
              "      <td>[Tomatillo-Red Chili Salsa (Hot), [Black Beans...</td>\n",
              "      <td>$16.98</td>\n",
              "    </tr>\n",
              "    <tr>\n",
              "      <th>5</th>\n",
              "      <td>3</td>\n",
              "      <td>1</td>\n",
              "      <td>Chicken Bowl</td>\n",
              "      <td>[Fresh Tomato Salsa (Mild), [Rice, Cheese, Sou...</td>\n",
              "      <td>$10.98</td>\n",
              "    </tr>\n",
              "    <tr>\n",
              "      <th>6</th>\n",
              "      <td>3</td>\n",
              "      <td>1</td>\n",
              "      <td>Side of Chips</td>\n",
              "      <td>NaN</td>\n",
              "      <td>$1.69</td>\n",
              "    </tr>\n",
              "    <tr>\n",
              "      <th>7</th>\n",
              "      <td>4</td>\n",
              "      <td>1</td>\n",
              "      <td>Steak Burrito</td>\n",
              "      <td>[Tomatillo Red Chili Salsa, [Fajita Vegetables...</td>\n",
              "      <td>$11.75</td>\n",
              "    </tr>\n",
              "    <tr>\n",
              "      <th>8</th>\n",
              "      <td>4</td>\n",
              "      <td>1</td>\n",
              "      <td>Steak Soft Tacos</td>\n",
              "      <td>[Tomatillo Green Chili Salsa, [Pinto Beans, Ch...</td>\n",
              "      <td>$9.25</td>\n",
              "    </tr>\n",
              "    <tr>\n",
              "      <th>9</th>\n",
              "      <td>5</td>\n",
              "      <td>1</td>\n",
              "      <td>Steak Burrito</td>\n",
              "      <td>[Fresh Tomato Salsa, [Rice, Black Beans, Pinto...</td>\n",
              "      <td>$9.25</td>\n",
              "    </tr>\n",
              "  </tbody>\n",
              "</table>\n",
              "</div>"
            ],
            "text/plain": [
              "   order_id  quantity                              item_name  \\\n",
              "0         1         1           Chips and Fresh Tomato Salsa   \n",
              "1         1         1                                   Izze   \n",
              "2         1         1                       Nantucket Nectar   \n",
              "3         1         1  Chips and Tomatillo-Green Chili Salsa   \n",
              "4         2         2                           Chicken Bowl   \n",
              "5         3         1                           Chicken Bowl   \n",
              "6         3         1                          Side of Chips   \n",
              "7         4         1                          Steak Burrito   \n",
              "8         4         1                       Steak Soft Tacos   \n",
              "9         5         1                          Steak Burrito   \n",
              "\n",
              "                                  choice_description item_price  \n",
              "0                                                NaN     $2.39   \n",
              "1                                       [Clementine]     $3.39   \n",
              "2                                            [Apple]     $3.39   \n",
              "3                                                NaN     $2.39   \n",
              "4  [Tomatillo-Red Chili Salsa (Hot), [Black Beans...    $16.98   \n",
              "5  [Fresh Tomato Salsa (Mild), [Rice, Cheese, Sou...    $10.98   \n",
              "6                                                NaN     $1.69   \n",
              "7  [Tomatillo Red Chili Salsa, [Fajita Vegetables...    $11.75   \n",
              "8  [Tomatillo Green Chili Salsa, [Pinto Beans, Ch...     $9.25   \n",
              "9  [Fresh Tomato Salsa, [Rice, Black Beans, Pinto...     $9.25   "
            ]
          },
          "metadata": {
            "tags": []
          },
          "execution_count": 3
        }
      ]
    },
    {
      "metadata": {
        "id": "d2LbpXjgV2Wv",
        "colab_type": "text"
      },
      "cell_type": "markdown",
      "source": [
        "### Step 5. What is the number of observations in the dataset?\n"
      ]
    },
    {
      "metadata": {
        "id": "yWeqxqx-V4mf",
        "colab_type": "code",
        "colab": {
          "base_uri": "https://localhost:8080/",
          "height": 36
        },
        "outputId": "f7c1407e-e706-41b7-dc54-854d69dee846"
      },
      "cell_type": "code",
      "source": [
        "chipo.shape[0]"
      ],
      "execution_count": 4,
      "outputs": [
        {
          "output_type": "execute_result",
          "data": {
            "text/plain": [
              "4622"
            ]
          },
          "metadata": {
            "tags": []
          },
          "execution_count": 4
        }
      ]
    },
    {
      "metadata": {
        "id": "TsmfWQIvV__f",
        "colab_type": "code",
        "colab": {
          "base_uri": "https://localhost:8080/",
          "height": 211
        },
        "outputId": "47497df0-8e00-462e-a603-121bf66df459"
      },
      "cell_type": "code",
      "source": [
        "#Can also be achieved with\n",
        "chipo.info()"
      ],
      "execution_count": 5,
      "outputs": [
        {
          "output_type": "stream",
          "text": [
            "<class 'pandas.core.frame.DataFrame'>\n",
            "RangeIndex: 4622 entries, 0 to 4621\n",
            "Data columns (total 5 columns):\n",
            "order_id              4622 non-null int64\n",
            "quantity              4622 non-null int64\n",
            "item_name             4622 non-null object\n",
            "choice_description    3376 non-null object\n",
            "item_price            4622 non-null object\n",
            "dtypes: int64(2), object(3)\n",
            "memory usage: 180.6+ KB\n"
          ],
          "name": "stdout"
        }
      ]
    },
    {
      "metadata": {
        "id": "-dP8EDN3Wnr4",
        "colab_type": "text"
      },
      "cell_type": "markdown",
      "source": [
        "### Step 6. What is the number of columns in the dataset?"
      ]
    },
    {
      "metadata": {
        "id": "bS17Yk8BWquk",
        "colab_type": "code",
        "colab": {
          "base_uri": "https://localhost:8080/",
          "height": 36
        },
        "outputId": "4798fd4c-52ad-423d-8a7f-5aeff7d93a61"
      },
      "cell_type": "code",
      "source": [
        "chipo.shape[1]"
      ],
      "execution_count": 6,
      "outputs": [
        {
          "output_type": "execute_result",
          "data": {
            "text/plain": [
              "5"
            ]
          },
          "metadata": {
            "tags": []
          },
          "execution_count": 6
        }
      ]
    },
    {
      "metadata": {
        "id": "4ZXPDzmfWzrW",
        "colab_type": "text"
      },
      "cell_type": "markdown",
      "source": [
        "### Step 7. Print the name of all the columns."
      ]
    },
    {
      "metadata": {
        "id": "_5wYpNBtWwlQ",
        "colab_type": "code",
        "colab": {
          "base_uri": "https://localhost:8080/",
          "height": 75
        },
        "outputId": "1a844df8-b344-480c-8c26-eac61c5faaad"
      },
      "cell_type": "code",
      "source": [
        "chipo.columns"
      ],
      "execution_count": 7,
      "outputs": [
        {
          "output_type": "execute_result",
          "data": {
            "text/plain": [
              "Index(['order_id', 'quantity', 'item_name', 'choice_description',\n",
              "       'item_price'],\n",
              "      dtype='object')"
            ]
          },
          "metadata": {
            "tags": []
          },
          "execution_count": 7
        }
      ]
    },
    {
      "metadata": {
        "id": "Ub6TJCrsW8zE",
        "colab_type": "text"
      },
      "cell_type": "markdown",
      "source": [
        "### Step 8. How is the dataset indexed?"
      ]
    },
    {
      "metadata": {
        "id": "3oXZrwvcXcnL",
        "colab_type": "code",
        "colab": {
          "base_uri": "https://localhost:8080/",
          "height": 36
        },
        "outputId": "f72391fa-b65d-4d69-c223-5cddf2ecdecf"
      },
      "cell_type": "code",
      "source": [
        "chipo.index"
      ],
      "execution_count": 8,
      "outputs": [
        {
          "output_type": "execute_result",
          "data": {
            "text/plain": [
              "RangeIndex(start=0, stop=4622, step=1)"
            ]
          },
          "metadata": {
            "tags": []
          },
          "execution_count": 8
        }
      ]
    },
    {
      "metadata": {
        "id": "rt6taGraXeMB",
        "colab_type": "text"
      },
      "cell_type": "markdown",
      "source": [
        "###  Step 9. Which was the most-ordered item?"
      ]
    },
    {
      "metadata": {
        "id": "dJzr7eaoXljC",
        "colab_type": "code",
        "colab": {
          "base_uri": "https://localhost:8080/",
          "height": 112
        },
        "outputId": "3699b103-237e-47c6-cb80-4e50f3cd43b1"
      },
      "cell_type": "code",
      "source": [
        "c = chipo.groupby('item_name')\n",
        "c = c.sum()\n",
        "c = c.sort_values(['quantity'], ascending=False)\n",
        "c.head(1)"
      ],
      "execution_count": 27,
      "outputs": [
        {
          "output_type": "execute_result",
          "data": {
            "text/html": [
              "<div>\n",
              "<style scoped>\n",
              "    .dataframe tbody tr th:only-of-type {\n",
              "        vertical-align: middle;\n",
              "    }\n",
              "\n",
              "    .dataframe tbody tr th {\n",
              "        vertical-align: top;\n",
              "    }\n",
              "\n",
              "    .dataframe thead th {\n",
              "        text-align: right;\n",
              "    }\n",
              "</style>\n",
              "<table border=\"1\" class=\"dataframe\">\n",
              "  <thead>\n",
              "    <tr style=\"text-align: right;\">\n",
              "      <th></th>\n",
              "      <th>order_id</th>\n",
              "      <th>quantity</th>\n",
              "    </tr>\n",
              "    <tr>\n",
              "      <th>item_name</th>\n",
              "      <th></th>\n",
              "      <th></th>\n",
              "    </tr>\n",
              "  </thead>\n",
              "  <tbody>\n",
              "    <tr>\n",
              "      <th>Chicken Bowl</th>\n",
              "      <td>713926</td>\n",
              "      <td>761</td>\n",
              "    </tr>\n",
              "  </tbody>\n",
              "</table>\n",
              "</div>"
            ],
            "text/plain": [
              "              order_id  quantity\n",
              "item_name                       \n",
              "Chicken Bowl    713926       761"
            ]
          },
          "metadata": {
            "tags": []
          },
          "execution_count": 27
        }
      ]
    },
    {
      "metadata": {
        "id": "mmxGaH-hYDxT",
        "colab_type": "code",
        "colab": {
          "base_uri": "https://localhost:8080/",
          "height": 112
        },
        "outputId": "b58c7687-0db4-4474-fcab-7a897fa0755a"
      },
      "cell_type": "code",
      "source": [
        "c = chipo.groupby('item_name').sum().sort_values(['quantity'], ascending=False)\n",
        "c.head(1)"
      ],
      "execution_count": 38,
      "outputs": [
        {
          "output_type": "execute_result",
          "data": {
            "text/html": [
              "<div>\n",
              "<style scoped>\n",
              "    .dataframe tbody tr th:only-of-type {\n",
              "        vertical-align: middle;\n",
              "    }\n",
              "\n",
              "    .dataframe tbody tr th {\n",
              "        vertical-align: top;\n",
              "    }\n",
              "\n",
              "    .dataframe thead th {\n",
              "        text-align: right;\n",
              "    }\n",
              "</style>\n",
              "<table border=\"1\" class=\"dataframe\">\n",
              "  <thead>\n",
              "    <tr style=\"text-align: right;\">\n",
              "      <th></th>\n",
              "      <th>order_id</th>\n",
              "      <th>quantity</th>\n",
              "    </tr>\n",
              "    <tr>\n",
              "      <th>item_name</th>\n",
              "      <th></th>\n",
              "      <th></th>\n",
              "    </tr>\n",
              "  </thead>\n",
              "  <tbody>\n",
              "    <tr>\n",
              "      <th>Chicken Bowl</th>\n",
              "      <td>713926</td>\n",
              "      <td>761</td>\n",
              "    </tr>\n",
              "  </tbody>\n",
              "</table>\n",
              "</div>"
            ],
            "text/plain": [
              "              order_id  quantity\n",
              "item_name                       \n",
              "Chicken Bowl    713926       761"
            ]
          },
          "metadata": {
            "tags": []
          },
          "execution_count": 38
        }
      ]
    },
    {
      "metadata": {
        "id": "bmmlKLpsJIZH",
        "colab_type": "text"
      },
      "cell_type": "markdown",
      "source": [
        "### 10. For the most-ordered item, how many items were ordered?"
      ]
    },
    {
      "metadata": {
        "id": "3ZH6jpZUKQ_6",
        "colab_type": "code",
        "colab": {
          "base_uri": "https://localhost:8080/",
          "height": 112
        },
        "outputId": "7e16b5f7-55bb-4084-b484-9dc5dcd14637"
      },
      "cell_type": "code",
      "source": [
        "#Same as 9.\n",
        "\n",
        "c = chipo.groupby('item_name').sum().sort_values(['quantity'], ascending=False)\n",
        "c.head(1)"
      ],
      "execution_count": 41,
      "outputs": [
        {
          "output_type": "execute_result",
          "data": {
            "text/html": [
              "<div>\n",
              "<style scoped>\n",
              "    .dataframe tbody tr th:only-of-type {\n",
              "        vertical-align: middle;\n",
              "    }\n",
              "\n",
              "    .dataframe tbody tr th {\n",
              "        vertical-align: top;\n",
              "    }\n",
              "\n",
              "    .dataframe thead th {\n",
              "        text-align: right;\n",
              "    }\n",
              "</style>\n",
              "<table border=\"1\" class=\"dataframe\">\n",
              "  <thead>\n",
              "    <tr style=\"text-align: right;\">\n",
              "      <th></th>\n",
              "      <th>order_id</th>\n",
              "      <th>quantity</th>\n",
              "    </tr>\n",
              "    <tr>\n",
              "      <th>item_name</th>\n",
              "      <th></th>\n",
              "      <th></th>\n",
              "    </tr>\n",
              "  </thead>\n",
              "  <tbody>\n",
              "    <tr>\n",
              "      <th>Chicken Bowl</th>\n",
              "      <td>713926</td>\n",
              "      <td>761</td>\n",
              "    </tr>\n",
              "  </tbody>\n",
              "</table>\n",
              "</div>"
            ],
            "text/plain": [
              "              order_id  quantity\n",
              "item_name                       \n",
              "Chicken Bowl    713926       761"
            ]
          },
          "metadata": {
            "tags": []
          },
          "execution_count": 41
        }
      ]
    },
    {
      "metadata": {
        "id": "23AITdV_KSpG",
        "colab_type": "text"
      },
      "cell_type": "markdown",
      "source": [
        "### 11. What was the most ordered item in the choice_description column?"
      ]
    },
    {
      "metadata": {
        "id": "QU4wu4ApKZiu",
        "colab_type": "code",
        "colab": {
          "base_uri": "https://localhost:8080/",
          "height": 112
        },
        "outputId": "d845f404-f41f-4a50-bd39-e76c34ad805b"
      },
      "cell_type": "code",
      "source": [
        "c = chipo.groupby('choice_description').sum()\n",
        "c = c.sort_values('quantity', ascending=False)\n",
        "c.head(1)"
      ],
      "execution_count": 47,
      "outputs": [
        {
          "output_type": "execute_result",
          "data": {
            "text/html": [
              "<div>\n",
              "<style scoped>\n",
              "    .dataframe tbody tr th:only-of-type {\n",
              "        vertical-align: middle;\n",
              "    }\n",
              "\n",
              "    .dataframe tbody tr th {\n",
              "        vertical-align: top;\n",
              "    }\n",
              "\n",
              "    .dataframe thead th {\n",
              "        text-align: right;\n",
              "    }\n",
              "</style>\n",
              "<table border=\"1\" class=\"dataframe\">\n",
              "  <thead>\n",
              "    <tr style=\"text-align: right;\">\n",
              "      <th></th>\n",
              "      <th>order_id</th>\n",
              "      <th>quantity</th>\n",
              "    </tr>\n",
              "    <tr>\n",
              "      <th>choice_description</th>\n",
              "      <th></th>\n",
              "      <th></th>\n",
              "    </tr>\n",
              "  </thead>\n",
              "  <tbody>\n",
              "    <tr>\n",
              "      <th>[Diet Coke]</th>\n",
              "      <td>123455</td>\n",
              "      <td>159</td>\n",
              "    </tr>\n",
              "  </tbody>\n",
              "</table>\n",
              "</div>"
            ],
            "text/plain": [
              "                    order_id  quantity\n",
              "choice_description                    \n",
              "[Diet Coke]           123455       159"
            ]
          },
          "metadata": {
            "tags": []
          },
          "execution_count": 47
        }
      ]
    },
    {
      "metadata": {
        "id": "xGUtA4vPgftC",
        "colab_type": "text"
      },
      "cell_type": "markdown",
      "source": [
        "### Step 12. How many items were orderd in total?"
      ]
    },
    {
      "metadata": {
        "id": "qZZfvv6ghE5V",
        "colab_type": "code",
        "colab": {
          "base_uri": "https://localhost:8080/",
          "height": 36
        },
        "outputId": "4796b372-a2ba-412a-bd04-ad3e754f305f"
      },
      "cell_type": "code",
      "source": [
        "total_items_ordered = chipo.quantity.sum()\n",
        "total_items_ordered"
      ],
      "execution_count": 48,
      "outputs": [
        {
          "output_type": "execute_result",
          "data": {
            "text/plain": [
              "4972"
            ]
          },
          "metadata": {
            "tags": []
          },
          "execution_count": 48
        }
      ]
    },
    {
      "metadata": {
        "id": "obIQidg-hMh4",
        "colab_type": "text"
      },
      "cell_type": "markdown",
      "source": [
        "### Step 13. Turn the item price into a float"
      ]
    },
    {
      "metadata": {
        "id": "rDKFgvRshRJx",
        "colab_type": "text"
      },
      "cell_type": "markdown",
      "source": [
        "####  Step 13.a. Check the item price type\n",
        "\n",
        "\n"
      ]
    },
    {
      "metadata": {
        "id": "YSlsAzf9hWEe",
        "colab_type": "code",
        "colab": {
          "base_uri": "https://localhost:8080/",
          "height": 36
        },
        "outputId": "308543e2-cd67-463f-f292-3a45e119c352"
      },
      "cell_type": "code",
      "source": [
        "chipo.item_price.dtype  #dtype ('O') means Python object"
      ],
      "execution_count": 50,
      "outputs": [
        {
          "output_type": "execute_result",
          "data": {
            "text/plain": [
              "dtype('O')"
            ]
          },
          "metadata": {
            "tags": []
          },
          "execution_count": 50
        }
      ]
    },
    {
      "metadata": {
        "id": "8m2xJ6hChZul",
        "colab_type": "text"
      },
      "cell_type": "markdown",
      "source": [
        "#### Step 13.b. Create a lambda function and change the type of item price"
      ]
    },
    {
      "metadata": {
        "id": "kCDGFmvWhw0A",
        "colab_type": "code",
        "colab": {}
      },
      "cell_type": "code",
      "source": [
        "floatizer = lambda x : float(x[1:-1])\n",
        "\n",
        "chipo.item_price = chipo.item_price.apply(floatizer)\n"
      ],
      "execution_count": 0,
      "outputs": []
    },
    {
      "metadata": {
        "id": "5hYNaVLriELq",
        "colab_type": "text"
      },
      "cell_type": "markdown",
      "source": [
        "#### 13.c Check the item price type"
      ]
    },
    {
      "metadata": {
        "id": "4O3lncXBi-e1",
        "colab_type": "code",
        "colab": {
          "base_uri": "https://localhost:8080/",
          "height": 36
        },
        "outputId": "d6635781-5ed4-45c2-f5c6-94c4468901a8"
      },
      "cell_type": "code",
      "source": [
        "chipo.item_price.dtype"
      ],
      "execution_count": 70,
      "outputs": [
        {
          "output_type": "execute_result",
          "data": {
            "text/plain": [
              "dtype('float64')"
            ]
          },
          "metadata": {
            "tags": []
          },
          "execution_count": 70
        }
      ]
    },
    {
      "metadata": {
        "id": "i91jnI0fjNnE",
        "colab_type": "text"
      },
      "cell_type": "markdown",
      "source": [
        "### Step 14. How much was the revenue for the period in the dataset?"
      ]
    },
    {
      "metadata": {
        "id": "SwbENGc-kFuy",
        "colab_type": "code",
        "colab": {
          "base_uri": "https://localhost:8080/",
          "height": 36
        },
        "outputId": "26674697-228e-46a6-d6d4-473f710b1dc3"
      },
      "cell_type": "code",
      "source": [
        "revenue = (chipo.item_price * chipo.quantity).sum()\n",
        "print('Revenue was: $'+ str(np.round(revenue, 2)))"
      ],
      "execution_count": 77,
      "outputs": [
        {
          "output_type": "stream",
          "text": [
            "Revenue was: $39237.02\n"
          ],
          "name": "stdout"
        }
      ]
    },
    {
      "metadata": {
        "id": "hMWzNH7QkXQS",
        "colab_type": "text"
      },
      "cell_type": "markdown",
      "source": [
        "###  Step 15. How many orders were made in the period?"
      ]
    },
    {
      "metadata": {
        "id": "fzhAu7R8lEaT",
        "colab_type": "code",
        "colab": {
          "base_uri": "https://localhost:8080/",
          "height": 36
        },
        "outputId": "cc776aaa-1c32-492d-f8cf-524689e6871a"
      },
      "cell_type": "code",
      "source": [
        "chipo.order_id.value_counts().count()"
      ],
      "execution_count": 84,
      "outputs": [
        {
          "output_type": "execute_result",
          "data": {
            "text/plain": [
              "1834"
            ]
          },
          "metadata": {
            "tags": []
          },
          "execution_count": 84
        }
      ]
    },
    {
      "metadata": {
        "id": "9z9J8HOKlJJm",
        "colab_type": "text"
      },
      "cell_type": "markdown",
      "source": [
        "### Step 16. What is the avarage amount per order?"
      ]
    },
    {
      "metadata": {
        "id": "wLqII_OamUCK",
        "colab_type": "code",
        "colab": {
          "base_uri": "https://localhost:8080/",
          "height": 36
        },
        "outputId": "0582a023-b0ea-4feb-8aea-67d25edcd726"
      },
      "cell_type": "code",
      "source": [
        "order_grouped = chipo.groupby('order_id').sum()\n",
        "order_grouped.mean()['item_price']\n"
      ],
      "execution_count": 90,
      "outputs": [
        {
          "output_type": "execute_result",
          "data": {
            "text/plain": [
              "18.81142857142869"
            ]
          },
          "metadata": {
            "tags": []
          },
          "execution_count": 90
        }
      ]
    },
    {
      "metadata": {
        "id": "feBG7QfJnDuh",
        "colab_type": "text"
      },
      "cell_type": "markdown",
      "source": [
        "### Step 17. How many different items are sold?"
      ]
    },
    {
      "metadata": {
        "id": "ZevF48Q1ohm3",
        "colab_type": "code",
        "colab": {
          "base_uri": "https://localhost:8080/",
          "height": 36
        },
        "outputId": "54bb700a-8b6b-49e0-dc3e-4beb65286633"
      },
      "cell_type": "code",
      "source": [
        "chipo.item_name.value_counts().count()\n",
        "#value_counts() returns unique values\n",
        "#counts() return how many unique values"
      ],
      "execution_count": 97,
      "outputs": [
        {
          "output_type": "execute_result",
          "data": {
            "text/plain": [
              "50"
            ]
          },
          "metadata": {
            "tags": []
          },
          "execution_count": 97
        }
      ]
    }
  ]
}