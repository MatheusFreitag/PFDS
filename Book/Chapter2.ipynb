{
  "nbformat": 4,
  "nbformat_minor": 0,
  "metadata": {
    "colab": {
      "name": "Chapter2.ipynb",
      "version": "0.3.2",
      "views": {},
      "default_view": {},
      "provenance": []
    },
    "kernelspec": {
      "name": "python3",
      "display_name": "Python 3"
    }
  },
  "cells": [
    {
      "metadata": {
        "id": "1JYuD9Q6K_S2",
        "colab_type": "text"
      },
      "cell_type": "markdown",
      "source": [
        "# Chapter 2\n",
        "\n",
        "#### Datasets can be downloaded here: https://github.com/wesm/pydata-book/tree/1st-edition\n"
      ]
    },
    {
      "metadata": {
        "id": "ltYb-wb5_J8_",
        "colab_type": "text"
      },
      "cell_type": "markdown",
      "source": [
        "## USA.gov Dataset"
      ]
    },
    {
      "metadata": {
        "id": "xT-71gNNLLJ_",
        "colab_type": "code",
        "colab": {
          "autoexec": {
            "startup": false,
            "wait_interval": 0
          },
          "resources": {
            "http://localhost:8080/nbextensions/google.colab/files.js": {
              "data": "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",
              "ok": true,
              "headers": [
                [
                  "content-type",
                  "application/javascript"
                ]
              ],
              "status": 200,
              "status_text": "OK"
            }
          },
          "base_uri": "https://localhost:8080/",
          "height": 134
        },
        "outputId": "300e819d-d019-4cab-f8a4-95ea9ca0747c",
        "executionInfo": {
          "status": "ok",
          "timestamp": 1529323433579,
          "user_tz": 180,
          "elapsed": 16829,
          "user": {
            "displayName": "Matheus Freitag",
            "photoUrl": "//lh4.googleusercontent.com/-gO8k_I3xsNU/AAAAAAAAAAI/AAAAAAAAQdo/hXeXMc58kF4/s50-c-k-no/photo.jpg",
            "userId": "106168815179433009641"
          }
        }
      },
      "cell_type": "code",
      "source": [
        "from google.colab import files\n",
        "uploaded = files.upload()\n",
        "\n",
        "for fn in uploaded.keys():\n",
        "  print('User uploaded file \"{name}\" with length {length} bytes'.format(\n",
        "      name=fn, length=len(uploaded[fn])))\n",
        "\n",
        "\n",
        "path = 'example.txt'\n",
        "open(path).readline()\n",
        "\n",
        "\n"
      ],
      "execution_count": 1,
      "outputs": [
        {
          "output_type": "display_data",
          "data": {
            "text/html": [
              "\n",
              "     <input type=\"file\" id=\"files-1f24439f-d8c7-4fd7-9696-25110cf1c267\" name=\"files[]\" multiple disabled />\n",
              "     <output id=\"result-1f24439f-d8c7-4fd7-9696-25110cf1c267\">\n",
              "      Upload widget is only available when the cell has been executed in the\n",
              "      current browser session. Please rerun this cell to enable.\n",
              "      </output>\n",
              "      <script src=\"/nbextensions/google.colab/files.js\"></script> "
            ],
            "text/plain": [
              "<IPython.core.display.HTML object>"
            ]
          },
          "metadata": {
            "tags": []
          }
        },
        {
          "output_type": "stream",
          "text": [
            "Saving example.txt to example.txt\n",
            "User uploaded file \"example.txt\" with length 1598282 bytes\n"
          ],
          "name": "stdout"
        },
        {
          "output_type": "execute_result",
          "data": {
            "text/plain": [
              "'{ \"a\": \"Mozilla\\\\/5.0 (Windows NT 6.1; WOW64) AppleWebKit\\\\/535.11 (KHTML, like Gecko) Chrome\\\\/17.0.963.78 Safari\\\\/535.11\", \"c\": \"US\", \"nk\": 1, \"tz\": \"America\\\\/New_York\", \"gr\": \"MA\", \"g\": \"A6qOVH\", \"h\": \"wfLQtf\", \"l\": \"orofrog\", \"al\": \"en-US,en;q=0.8\", \"hh\": \"1.usa.gov\", \"r\": \"http:\\\\/\\\\/www.facebook.com\\\\/l\\\\/7AQEFzjSi\\\\/1.usa.gov\\\\/wfLQtf\", \"u\": \"http:\\\\/\\\\/www.ncbi.nlm.nih.gov\\\\/pubmed\\\\/22415991\", \"t\": 1331923247, \"hc\": 1331822918, \"cy\": \"Danvers\", \"ll\": [ 42.576698, -70.954903 ] }\\n'"
            ]
          },
          "metadata": {
            "tags": []
          },
          "execution_count": 1
        }
      ]
    },
    {
      "metadata": {
        "id": "kyUNus1AMjsF",
        "colab_type": "code",
        "colab": {
          "autoexec": {
            "startup": false,
            "wait_interval": 0
          },
          "base_uri": "https://localhost:8080/",
          "height": 225
        },
        "outputId": "b4203138-f516-49a4-b519-87e8e53b1c45",
        "executionInfo": {
          "status": "ok",
          "timestamp": 1529323434264,
          "user_tz": 180,
          "elapsed": 607,
          "user": {
            "displayName": "Matheus Freitag",
            "photoUrl": "//lh4.googleusercontent.com/-gO8k_I3xsNU/AAAAAAAAAAI/AAAAAAAAQdo/hXeXMc58kF4/s50-c-k-no/photo.jpg",
            "userId": "106168815179433009641"
          }
        }
      },
      "cell_type": "code",
      "source": [
        "import json\n",
        "path = 'example.txt'\n",
        "records = [json.loads(line) for line in open(path)]\n",
        "\n",
        "records[0]\n",
        "print(records[0]['tz'])\n",
        "time_zones = [rec['tz'] for rec in records if 'tz' in rec]\n",
        "\n",
        "time_zones[:10]"
      ],
      "execution_count": 2,
      "outputs": [
        {
          "output_type": "stream",
          "text": [
            "America/New_York\n"
          ],
          "name": "stdout"
        },
        {
          "output_type": "execute_result",
          "data": {
            "text/plain": [
              "['America/New_York',\n",
              " 'America/Denver',\n",
              " 'America/New_York',\n",
              " 'America/Sao_Paulo',\n",
              " 'America/New_York',\n",
              " 'America/New_York',\n",
              " 'Europe/Warsaw',\n",
              " '',\n",
              " '',\n",
              " '']"
            ]
          },
          "metadata": {
            "tags": []
          },
          "execution_count": 2
        }
      ]
    },
    {
      "metadata": {
        "id": "Uz6MDsUqQU_3",
        "colab_type": "code",
        "colab": {
          "autoexec": {
            "startup": false,
            "wait_interval": 0
          },
          "base_uri": "https://localhost:8080/",
          "height": 206
        },
        "outputId": "70f6a3b4-3759-436c-ae7f-94eb028af253",
        "executionInfo": {
          "status": "ok",
          "timestamp": 1529323435292,
          "user_tz": 180,
          "elapsed": 825,
          "user": {
            "displayName": "Matheus Freitag",
            "photoUrl": "//lh4.googleusercontent.com/-gO8k_I3xsNU/AAAAAAAAAAI/AAAAAAAAQdo/hXeXMc58kF4/s50-c-k-no/photo.jpg",
            "userId": "106168815179433009641"
          }
        }
      },
      "cell_type": "code",
      "source": [
        "#Get counts of each time zone - Standard Python\n",
        "\n",
        "def get_counts(sequence):\n",
        "  counts = {}\n",
        "  for x in sequence:\n",
        "    if x in counts:\n",
        "      counts[x] += 1\n",
        "    else:\n",
        "      counts[x] = 1\n",
        "  return counts\n",
        "\n",
        "counts = get_counts(time_zones)\n",
        "counts['America/New_York'] #Get count of timezones that are equal to America/New Yowk\n",
        "\n",
        "\n",
        "#Get top 10 time zones\n",
        "def top_counts(count_dict, n=10):\n",
        "  value_key_pairs = [(count,tz) for tz, count in counts.items()]\n",
        "  value_key_pairs.sort()\n",
        "  return value_key_pairs[-10:]\n",
        "\n",
        "top_counts(counts)\n",
        "\n",
        "#Another way to count the top 10\n",
        "from collections import Counter\n",
        "\n",
        "counts = Counter(time_zones)\n",
        "counts.most_common(10)\n"
      ],
      "execution_count": 3,
      "outputs": [
        {
          "output_type": "execute_result",
          "data": {
            "text/plain": [
              "[('America/New_York', 1251),\n",
              " ('', 521),\n",
              " ('America/Chicago', 400),\n",
              " ('America/Los_Angeles', 382),\n",
              " ('America/Denver', 191),\n",
              " ('Europe/London', 74),\n",
              " ('Asia/Tokyo', 37),\n",
              " ('Pacific/Honolulu', 36),\n",
              " ('Europe/Madrid', 35),\n",
              " ('America/Sao_Paulo', 33)]"
            ]
          },
          "metadata": {
            "tags": []
          },
          "execution_count": 3
        }
      ]
    },
    {
      "metadata": {
        "id": "ZmSVEPYhRyzZ",
        "colab_type": "code",
        "colab": {
          "autoexec": {
            "startup": false,
            "wait_interval": 0
          },
          "base_uri": "https://localhost:8080/",
          "height": 225
        },
        "outputId": "a40308e0-9c79-4fcc-a79e-1f5f2ee1b5ca",
        "executionInfo": {
          "status": "ok",
          "timestamp": 1529323637392,
          "user_tz": 180,
          "elapsed": 820,
          "user": {
            "displayName": "Matheus Freitag",
            "photoUrl": "//lh4.googleusercontent.com/-gO8k_I3xsNU/AAAAAAAAAAI/AAAAAAAAQdo/hXeXMc58kF4/s50-c-k-no/photo.jpg",
            "userId": "106168815179433009641"
          }
        }
      },
      "cell_type": "code",
      "source": [
        "#Now counting the top 10 with Pandas\n",
        "\n",
        "from pandas import DataFrame, Series\n",
        "import pandas as pd\n",
        "\n",
        "frame = DataFrame(records)\n",
        "\n",
        "#Preview of the data\n",
        "#frame\n",
        "\n",
        "#Get the value counts:\n",
        "tz_counts = frame['tz'].value_counts()\n",
        "\n",
        "#tz_counts[:10]\n",
        "#frame['tz'][:10]\n",
        "\n",
        "tz_counts = frame['tz'].value_counts()\n",
        "tz_counts[:10]"
      ],
      "execution_count": 7,
      "outputs": [
        {
          "output_type": "execute_result",
          "data": {
            "text/plain": [
              "America/New_York       1251\n",
              "                        521\n",
              "America/Chicago         400\n",
              "America/Los_Angeles     382\n",
              "America/Denver          191\n",
              "Europe/London            74\n",
              "Asia/Tokyo               37\n",
              "Pacific/Honolulu         36\n",
              "Europe/Madrid            35\n",
              "America/Sao_Paulo        33\n",
              "Name: tz, dtype: int64"
            ]
          },
          "metadata": {
            "tags": []
          },
          "execution_count": 7
        }
      ]
    },
    {
      "metadata": {
        "id": "bTfApqxE-KR1",
        "colab_type": "code",
        "colab": {
          "autoexec": {
            "startup": false,
            "wait_interval": 0
          },
          "base_uri": "https://localhost:8080/",
          "height": 284
        },
        "outputId": "702e066c-c45d-439f-af90-c6d9ab9618d9",
        "executionInfo": {
          "status": "ok",
          "timestamp": 1529324778037,
          "user_tz": 180,
          "elapsed": 718,
          "user": {
            "displayName": "Matheus Freitag",
            "photoUrl": "//lh4.googleusercontent.com/-gO8k_I3xsNU/AAAAAAAAAAI/AAAAAAAAQdo/hXeXMc58kF4/s50-c-k-no/photo.jpg",
            "userId": "106168815179433009641"
          }
        }
      },
      "cell_type": "code",
      "source": [
        "#Cleanin missing values in the frame\n",
        "\n",
        "clean_tz = frame['tz'].fillna(\"Missing\")\n",
        "clean_tz[clean_tz == ''] = ' Unknown'\n",
        "tz_counts= clean_tz.value_counts()\n",
        "tz_counts[:10]\n",
        "\n",
        "\n",
        "#Plot bar chart with data\n",
        "\n",
        "tz_counts[:10].plot(kind='barh', rot='1', figsize=(18,4))\n"
      ],
      "execution_count": 21,
      "outputs": [
        {
          "output_type": "execute_result",
          "data": {
            "text/plain": [
              "<matplotlib.axes._subplots.AxesSubplot at 0x7fc9465c1208>"
            ]
          },
          "metadata": {
            "tags": []
          },
          "execution_count": 21
        },
        {
          "output_type": "display_data",
          "data": {
            "image/png": "[encoded data removed]",
            "text/plain": [
              "<matplotlib.figure.Figure at 0x7fc946878a58>"
            ]
          },
          "metadata": {
            "tags": []
          }
        }
      ]
    },
    {
      "metadata": {
        "id": "Sn71sge8zw1H",
        "colab_type": "code",
        "colab": {
          "autoexec": {
            "startup": false,
            "wait_interval": 0
          },
          "base_uri": "https://localhost:8080/",
          "height": 187
        },
        "outputId": "c0f0ca35-ddde-41c9-e03c-2b4fdb785e5c",
        "executionInfo": {
          "status": "ok",
          "timestamp": 1529325020352,
          "user_tz": 180,
          "elapsed": 646,
          "user": {
            "displayName": "Matheus Freitag",
            "photoUrl": "//lh4.googleusercontent.com/-gO8k_I3xsNU/AAAAAAAAAAI/AAAAAAAAQdo/hXeXMc58kF4/s50-c-k-no/photo.jpg",
            "userId": "106168815179433009641"
          }
        }
      },
      "cell_type": "code",
      "source": [
        "#Retrieving the browser from the dataset\n",
        "\n",
        "results = Series([x.split()[0] for x in frame.a.dropna()])\n",
        "results[:5]\n",
        "\n",
        "results.value_counts()[:8]"
      ],
      "execution_count": 25,
      "outputs": [
        {
          "output_type": "execute_result",
          "data": {
            "text/plain": [
              "Mozilla/5.0                 2594\n",
              "Mozilla/4.0                  601\n",
              "GoogleMaps/RochesterNY       121\n",
              "Opera/9.80                    34\n",
              "TEST_INTERNET_AGENT           24\n",
              "GoogleProducer                21\n",
              "Mozilla/6.0                    5\n",
              "BlackBerry8520/5.0.0.681       4\n",
              "dtype: int64"
            ]
          },
          "metadata": {
            "tags": []
          },
          "execution_count": 25
        }
      ]
    },
    {
      "metadata": {
        "id": "I5fHAy233zfV",
        "colab_type": "code",
        "colab": {
          "autoexec": {
            "startup": false,
            "wait_interval": 0
          },
          "base_uri": "https://localhost:8080/",
          "height": 696
        },
        "outputId": "b28afe5f-4e12-4d71-f06c-88984e53a7e6",
        "executionInfo": {
          "status": "ok",
          "timestamp": 1529326351959,
          "user_tz": 180,
          "elapsed": 1276,
          "user": {
            "displayName": "Matheus Freitag",
            "photoUrl": "//lh4.googleusercontent.com/-gO8k_I3xsNU/AAAAAAAAAAI/AAAAAAAAQdo/hXeXMc58kF4/s50-c-k-no/photo.jpg",
            "userId": "106168815179433009641"
          }
        }
      },
      "cell_type": "code",
      "source": [
        "#If we want to divide the users into Windows and Not Windows users\n",
        "import numpy as np\n",
        "cframe = frame[frame.a.notnull()]\n",
        "operating_system = np.where(cframe['a'].str.contains('Windows'), 'Windows', 'Not Windows')\n",
        "\n",
        "operating_system[:5]\n",
        "\n",
        "#And then group the operating system with the time zones\n",
        "by_tz_os = cframe.groupby(['tz', operating_system])\n",
        "\n",
        "\n",
        "#Display the result (descending order)\n",
        "agg_count = by_tz_os.size().unstack().fillna(0)\n",
        "agg_count[:10]\n",
        "\n",
        "\n",
        "# #Ascending order \n",
        "indexer = agg_count.sum(1).argsort()\n",
        "indexer[:10]\n",
        "\n",
        "#Get the slice of the top 10\n",
        "count_subset = agg_count.take(indexer)[-10:]\n",
        "count_subset\n",
        "\n",
        "#Plotting the data\n",
        "count_subset.plot(kind='barh', stacked=True)\n",
        "\n",
        "#It might be hard to see the % of windows users in small groups\n",
        "#so lets normalize it\n",
        "normed_subset = count_subset.div(count_subset.sum(1), axis=0)\n",
        "normed_subset.plot(kind='barh', stacked=True)\n"
      ],
      "execution_count": 40,
      "outputs": [
        {
          "output_type": "execute_result",
          "data": {
            "text/plain": [
              "<matplotlib.axes._subplots.AxesSubplot at 0x7fc9462f5ac8>"
            ]
          },
          "metadata": {
            "tags": []
          },
          "execution_count": 40
        },
        {
          "output_type": "display_data",
          "data": {
            "image/png": "[encoded data removed]",
            "text/plain": [
              "<matplotlib.figure.Figure at 0x7fc94636bbe0>"
            ]
          },
          "metadata": {
            "tags": []
          }
        },
        {
          "output_type": "display_data",
          "data": {
            "image/png": "[encoded data removed]",
            "text/plain": [
              "<matplotlib.figure.Figure at 0x7fc9462f5400>"
            ]
          },
          "metadata": {
            "tags": []
          }
        }
      ]
    },
    {
      "metadata": {
        "id": "p7dQhcub_BEY",
        "colab_type": "text"
      },
      "cell_type": "markdown",
      "source": [
        "## Movie Lens Dataset"
      ]
    },
    {
      "metadata": {
        "id": "qPtBKhIz_IIu",
        "colab_type": "code",
        "colab": {
          "autoexec": {
            "startup": false,
            "wait_interval": 0
          },
          "resources": {
            "http://localhost:8080/nbextensions/google.colab/files.js": {
              "data": "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",
              "ok": true,
              "headers": [
                [
                  "content-type",
                  "application/javascript"
                ]
              ],
              "status": 200,
              "status_text": "OK"
            }
          },
          "base_uri": "https://localhost:8080/",
          "height": 328
        },
        "outputId": "65f1b304-af4a-4d63-80d2-f95ac44f7728",
        "executionInfo": {
          "status": "ok",
          "timestamp": 1529328973974,
          "user_tz": 180,
          "elapsed": 177223,
          "user": {
            "displayName": "Matheus Freitag",
            "photoUrl": "//lh4.googleusercontent.com/-gO8k_I3xsNU/AAAAAAAAAAI/AAAAAAAAQdo/hXeXMc58kF4/s50-c-k-no/photo.jpg",
            "userId": "106168815179433009641"
          }
        }
      },
      "cell_type": "code",
      "source": [
        "import pandas as pd\n",
        "from google.colab import files\n",
        "\n",
        "usersData = files.upload()\n",
        "ratingsData = files.upload()\n",
        "moviesData = files.upload()\n",
        "\n",
        "unames = ['user_id', 'gender', 'age', 'occupation', 'zip']\n",
        "users = pd.read_table('users.dat', sep='::', header=None, names=unames) \n",
        "\n",
        "rnames = ['user_id', 'movie_id','rating', 'timestamp']\n",
        "ratings = pd.read_table('ratings.dat', sep='::', header=None, names=rnames) \n",
        "\n",
        "mnames = ['movie_id', 'title', 'genres']\n",
        "movies = pd.read_table('movies.dat', sep='::', header=None, names=mnames) \n",
        "\n"
      ],
      "execution_count": 46,
      "outputs": [
        {
          "output_type": "display_data",
          "data": {
            "text/html": [
              "\n",
              "     <input type=\"file\" id=\"files-f2a89073-3f10-4284-b97b-9437b61dbd34\" name=\"files[]\" multiple disabled />\n",
              "     <output id=\"result-f2a89073-3f10-4284-b97b-9437b61dbd34\">\n",
              "      Upload widget is only available when the cell has been executed in the\n",
              "      current browser session. Please rerun this cell to enable.\n",
              "      </output>\n",
              "      <script src=\"/nbextensions/google.colab/files.js\"></script> "
            ],
            "text/plain": [
              "<IPython.core.display.HTML object>"
            ]
          },
          "metadata": {
            "tags": []
          }
        },
        {
          "output_type": "stream",
          "text": [
            "Saving users.dat to users (3).dat\n"
          ],
          "name": "stdout"
        },
        {
          "output_type": "display_data",
          "data": {
            "text/html": [
              "\n",
              "     <input type=\"file\" id=\"files-eb19b578-1133-4650-8291-87d3a8d37a44\" name=\"files[]\" multiple disabled />\n",
              "     <output id=\"result-eb19b578-1133-4650-8291-87d3a8d37a44\">\n",
              "      Upload widget is only available when the cell has been executed in the\n",
              "      current browser session. Please rerun this cell to enable.\n",
              "      </output>\n",
              "      <script src=\"/nbextensions/google.colab/files.js\"></script> "
            ],
            "text/plain": [
              "<IPython.core.display.HTML object>"
            ]
          },
          "metadata": {
            "tags": []
          }
        },
        {
          "output_type": "stream",
          "text": [
            "Saving ratings.dat to ratings (1).dat\n"
          ],
          "name": "stdout"
        },
        {
          "output_type": "display_data",
          "data": {
            "text/html": [
              "\n",
              "     <input type=\"file\" id=\"files-1670e4d2-d159-47b8-9be1-2708b8e07baa\" name=\"files[]\" multiple disabled />\n",
              "     <output id=\"result-1670e4d2-d159-47b8-9be1-2708b8e07baa\">\n",
              "      Upload widget is only available when the cell has been executed in the\n",
              "      current browser session. Please rerun this cell to enable.\n",
              "      </output>\n",
              "      <script src=\"/nbextensions/google.colab/files.js\"></script> "
            ],
            "text/plain": [
              "<IPython.core.display.HTML object>"
            ]
          },
          "metadata": {
            "tags": []
          }
        },
        {
          "output_type": "stream",
          "text": [
            "Saving movies.dat to movies.dat\n"
          ],
          "name": "stdout"
        },
        {
          "output_type": "stream",
          "text": [
            "/usr/local/lib/python3.6/dist-packages/ipykernel_launcher.py:9: ParserWarning: Falling back to the 'python' engine because the 'c' engine does not support regex separators (separators > 1 char and different from '\\s+' are interpreted as regex); you can avoid this warning by specifying engine='python'.\n",
            "  if __name__ == '__main__':\n",
            "/usr/local/lib/python3.6/dist-packages/ipykernel_launcher.py:12: ParserWarning: Falling back to the 'python' engine because the 'c' engine does not support regex separators (separators > 1 char and different from '\\s+' are interpreted as regex); you can avoid this warning by specifying engine='python'.\n",
            "  if sys.path[0] == '':\n",
            "/usr/local/lib/python3.6/dist-packages/ipykernel_launcher.py:15: ParserWarning: Falling back to the 'python' engine because the 'c' engine does not support regex separators (separators > 1 char and different from '\\s+' are interpreted as regex); you can avoid this warning by specifying engine='python'.\n",
            "  from ipykernel import kernelapp as app\n"
          ],
          "name": "stderr"
        }
      ]
    },
    {
      "metadata": {
        "id": "eZzsS9IuBYPM",
        "colab_type": "code",
        "colab": {
          "autoexec": {
            "startup": false,
            "wait_interval": 0
          },
          "base_uri": "https://localhost:8080/",
          "height": 206
        },
        "outputId": "3d1bd627-78b2-4922-e08d-31461a5aefbe",
        "executionInfo": {
          "status": "ok",
          "timestamp": 1529331015002,
          "user_tz": 180,
          "elapsed": 711,
          "user": {
            "displayName": "Matheus Freitag",
            "photoUrl": "//lh4.googleusercontent.com/-gO8k_I3xsNU/AAAAAAAAAAI/AAAAAAAAQdo/hXeXMc58kF4/s50-c-k-no/photo.jpg",
            "userId": "106168815179433009641"
          }
        }
      },
      "cell_type": "code",
      "source": [
        "#users[:5]\n",
        "#ratings[:5]\n",
        "movies[:5]"
      ],
      "execution_count": 71,
      "outputs": [
        {
          "output_type": "execute_result",
          "data": {
            "text/html": [
              "<div>\n",
              "<style scoped>\n",
              "    .dataframe tbody tr th:only-of-type {\n",
              "        vertical-align: middle;\n",
              "    }\n",
              "\n",
              "    .dataframe tbody tr th {\n",
              "        vertical-align: top;\n",
              "    }\n",
              "\n",
              "    .dataframe thead th {\n",
              "        text-align: right;\n",
              "    }\n",
              "</style>\n",
              "<table border=\"1\" class=\"dataframe\">\n",
              "  <thead>\n",
              "    <tr style=\"text-align: right;\">\n",
              "      <th></th>\n",
              "      <th>movie_id</th>\n",
              "      <th>title</th>\n",
              "      <th>genres</th>\n",
              "    </tr>\n",
              "  </thead>\n",
              "  <tbody>\n",
              "    <tr>\n",
              "      <th>0</th>\n",
              "      <td>1</td>\n",
              "      <td>Toy Story (1995)</td>\n",
              "      <td>Animation|Children's|Comedy</td>\n",
              "    </tr>\n",
              "    <tr>\n",
              "      <th>1</th>\n",
              "      <td>2</td>\n",
              "      <td>Jumanji (1995)</td>\n",
              "      <td>Adventure|Children's|Fantasy</td>\n",
              "    </tr>\n",
              "    <tr>\n",
              "      <th>2</th>\n",
              "      <td>3</td>\n",
              "      <td>Grumpier Old Men (1995)</td>\n",
              "      <td>Comedy|Romance</td>\n",
              "    </tr>\n",
              "    <tr>\n",
              "      <th>3</th>\n",
              "      <td>4</td>\n",
              "      <td>Waiting to Exhale (1995)</td>\n",
              "      <td>Comedy|Drama</td>\n",
              "    </tr>\n",
              "    <tr>\n",
              "      <th>4</th>\n",
              "      <td>5</td>\n",
              "      <td>Father of the Bride Part II (1995)</td>\n",
              "      <td>Comedy</td>\n",
              "    </tr>\n",
              "  </tbody>\n",
              "</table>\n",
              "</div>"
            ],
            "text/plain": [
              "   movie_id                               title                        genres\n",
              "0         1                    Toy Story (1995)   Animation|Children's|Comedy\n",
              "1         2                      Jumanji (1995)  Adventure|Children's|Fantasy\n",
              "2         3             Grumpier Old Men (1995)                Comedy|Romance\n",
              "3         4            Waiting to Exhale (1995)                  Comedy|Drama\n",
              "4         5  Father of the Bride Part II (1995)                        Comedy"
            ]
          },
          "metadata": {
            "tags": []
          },
          "execution_count": 71
        }
      ]
    },
    {
      "metadata": {
        "id": "PaZ4nqb2D3PH",
        "colab_type": "code",
        "colab": {
          "autoexec": {
            "startup": false,
            "wait_interval": 0
          }
        }
      },
      "cell_type": "code",
      "source": [
        ""
      ],
      "execution_count": 0,
      "outputs": []
    },
    {
      "metadata": {
        "id": "7X49m5rvHI1X",
        "colab_type": "code",
        "colab": {
          "autoexec": {
            "startup": false,
            "wait_interval": 0
          },
          "base_uri": "https://localhost:8080/",
          "height": 225
        },
        "outputId": "93d63065-4788-4131-90e4-94b3d32f1a1d",
        "executionInfo": {
          "status": "ok",
          "timestamp": 1529330867631,
          "user_tz": 180,
          "elapsed": 684,
          "user": {
            "displayName": "Matheus Freitag",
            "photoUrl": "//lh4.googleusercontent.com/-gO8k_I3xsNU/AAAAAAAAAAI/AAAAAAAAQdo/hXeXMc58kF4/s50-c-k-no/photo.jpg",
            "userId": "106168815179433009641"
          }
        }
      },
      "cell_type": "code",
      "source": [
        "#It's hard to analyse data split in 3 different tables so lets merge them\n",
        "data = pd.merge(pd.merge(ratings, users), movies)\n",
        "\n",
        "data.loc[0]"
      ],
      "execution_count": 70,
      "outputs": [
        {
          "output_type": "execute_result",
          "data": {
            "text/plain": [
              "user_id                                            1\n",
              "movie_id                                        1193\n",
              "rating                                             5\n",
              "timestamp                                9.78301e+08\n",
              "gender                                             F\n",
              "age                                                1\n",
              "occupation                                        10\n",
              "zip                                            48067\n",
              "title         One Flew Over the Cuckoo's Nest (1975)\n",
              "genres                                         Drama\n",
              "Name: 0, dtype: object"
            ]
          },
          "metadata": {
            "tags": []
          },
          "execution_count": 70
        }
      ]
    },
    {
      "metadata": {
        "id": "kzHs4ppnJEx3",
        "colab_type": "code",
        "colab": {
          "autoexec": {
            "startup": false,
            "wait_interval": 0
          },
          "base_uri": "https://localhost:8080/",
          "height": 238
        },
        "outputId": "d354100f-a279-4d93-84db-6462382c0b20",
        "executionInfo": {
          "status": "ok",
          "timestamp": 1529330017137,
          "user_tz": 180,
          "elapsed": 706,
          "user": {
            "displayName": "Matheus Freitag",
            "photoUrl": "//lh4.googleusercontent.com/-gO8k_I3xsNU/AAAAAAAAAAI/AAAAAAAAQdo/hXeXMc58kF4/s50-c-k-no/photo.jpg",
            "userId": "106168815179433009641"
          }
        }
      },
      "cell_type": "code",
      "source": [
        "#With aggregated tables it is easy to get information about, lets say, movie ratings by gender\n",
        "mean_ratings = data.pivot_table('rating', index='title', columns='gender', aggfunc='mean')\n",
        "mean_ratings[:5]"
      ],
      "execution_count": 57,
      "outputs": [
        {
          "output_type": "execute_result",
          "data": {
            "text/html": [
              "<div>\n",
              "<style scoped>\n",
              "    .dataframe tbody tr th:only-of-type {\n",
              "        vertical-align: middle;\n",
              "    }\n",
              "\n",
              "    .dataframe tbody tr th {\n",
              "        vertical-align: top;\n",
              "    }\n",
              "\n",
              "    .dataframe thead th {\n",
              "        text-align: right;\n",
              "    }\n",
              "</style>\n",
              "<table border=\"1\" class=\"dataframe\">\n",
              "  <thead>\n",
              "    <tr style=\"text-align: right;\">\n",
              "      <th>gender</th>\n",
              "      <th>F</th>\n",
              "      <th>M</th>\n",
              "    </tr>\n",
              "    <tr>\n",
              "      <th>title</th>\n",
              "      <th></th>\n",
              "      <th></th>\n",
              "    </tr>\n",
              "  </thead>\n",
              "  <tbody>\n",
              "    <tr>\n",
              "      <th>$1,000,000 Duck (1971)</th>\n",
              "      <td>NaN</td>\n",
              "      <td>2.000000</td>\n",
              "    </tr>\n",
              "    <tr>\n",
              "      <th>'Night Mother (1986)</th>\n",
              "      <td>3.000000</td>\n",
              "      <td>5.000000</td>\n",
              "    </tr>\n",
              "    <tr>\n",
              "      <th>'Til There Was You (1997)</th>\n",
              "      <td>2.333333</td>\n",
              "      <td>NaN</td>\n",
              "    </tr>\n",
              "    <tr>\n",
              "      <th>'burbs, The (1989)</th>\n",
              "      <td>3.250000</td>\n",
              "      <td>3.111111</td>\n",
              "    </tr>\n",
              "    <tr>\n",
              "      <th>...And Justice for All (1979)</th>\n",
              "      <td>4.000000</td>\n",
              "      <td>3.600000</td>\n",
              "    </tr>\n",
              "  </tbody>\n",
              "</table>\n",
              "</div>"
            ],
            "text/plain": [
              "gender                                F         M\n",
              "title                                            \n",
              "$1,000,000 Duck (1971)              NaN  2.000000\n",
              "'Night Mother (1986)           3.000000  5.000000\n",
              "'Til There Was You (1997)      2.333333       NaN\n",
              "'burbs, The (1989)             3.250000  3.111111\n",
              "...And Justice for All (1979)  4.000000  3.600000"
            ]
          },
          "metadata": {
            "tags": []
          },
          "execution_count": 57
        }
      ]
    },
    {
      "metadata": {
        "id": "HcQGh7U1KCQL",
        "colab_type": "code",
        "colab": {
          "autoexec": {
            "startup": false,
            "wait_interval": 0
          },
          "base_uri": "https://localhost:8080/",
          "height": 432
        },
        "outputId": "62bb46e9-cb1e-4a9b-fa43-bf74142ffcbf",
        "executionInfo": {
          "status": "ok",
          "timestamp": 1529331453208,
          "user_tz": 180,
          "elapsed": 931,
          "user": {
            "displayName": "Matheus Freitag",
            "photoUrl": "//lh4.googleusercontent.com/-gO8k_I3xsNU/AAAAAAAAAAI/AAAAAAAAQdo/hXeXMc58kF4/s50-c-k-no/photo.jpg",
            "userId": "106168815179433009641"
          }
        }
      },
      "cell_type": "code",
      "source": [
        "#To filter movies that received at least 100 ratings\n",
        "ratings_by_title = data.groupby('title').size()\n",
        "ratings_by_title[:10]\n",
        "\n",
        "active_titles = ratings_by_title.index[ratings_by_title >= 100]\n",
        "\n",
        "active_titles #28 movies\n",
        "\n",
        "\n",
        "#We can use the active_titles to select rows from mean_ratings\n",
        "mean_ratings.ix[active_titles]\n",
        "\n",
        "\n",
        "#To check top movies by female viewers\n",
        "top_female_ratings = mean_ratings.sort_index(by='F', ascending=False)\n",
        "\n",
        "top_female_ratings[:10]"
      ],
      "execution_count": 86,
      "outputs": [
        {
          "output_type": "stream",
          "text": [
            "/usr/local/lib/python3.6/dist-packages/ipykernel_launcher.py:14: FutureWarning: by argument to sort_index is deprecated, please use .sort_values(by=...)\n",
            "  \n"
          ],
          "name": "stderr"
        },
        {
          "output_type": "execute_result",
          "data": {
            "text/html": [
              "<div>\n",
              "<style scoped>\n",
              "    .dataframe tbody tr th:only-of-type {\n",
              "        vertical-align: middle;\n",
              "    }\n",
              "\n",
              "    .dataframe tbody tr th {\n",
              "        vertical-align: top;\n",
              "    }\n",
              "\n",
              "    .dataframe thead th {\n",
              "        text-align: right;\n",
              "    }\n",
              "</style>\n",
              "<table border=\"1\" class=\"dataframe\">\n",
              "  <thead>\n",
              "    <tr style=\"text-align: right;\">\n",
              "      <th>gender</th>\n",
              "      <th>F</th>\n",
              "      <th>M</th>\n",
              "    </tr>\n",
              "    <tr>\n",
              "      <th>title</th>\n",
              "      <th></th>\n",
              "      <th></th>\n",
              "    </tr>\n",
              "  </thead>\n",
              "  <tbody>\n",
              "    <tr>\n",
              "      <th>Rain (1932)</th>\n",
              "      <td>5.0</td>\n",
              "      <td>NaN</td>\n",
              "    </tr>\n",
              "    <tr>\n",
              "      <th>When We Were Kings (1996)</th>\n",
              "      <td>5.0</td>\n",
              "      <td>4.200</td>\n",
              "    </tr>\n",
              "    <tr>\n",
              "      <th>I Dreamed of Africa (2000)</th>\n",
              "      <td>5.0</td>\n",
              "      <td>3.000</td>\n",
              "    </tr>\n",
              "    <tr>\n",
              "      <th>Beautiful People (1999)</th>\n",
              "      <td>5.0</td>\n",
              "      <td>3.000</td>\n",
              "    </tr>\n",
              "    <tr>\n",
              "      <th>Home for the Holidays (1995)</th>\n",
              "      <td>5.0</td>\n",
              "      <td>NaN</td>\n",
              "    </tr>\n",
              "    <tr>\n",
              "      <th>Home Alone 3 (1997)</th>\n",
              "      <td>5.0</td>\n",
              "      <td>1.250</td>\n",
              "    </tr>\n",
              "    <tr>\n",
              "      <th>High Plains Drifter (1972)</th>\n",
              "      <td>5.0</td>\n",
              "      <td>3.375</td>\n",
              "    </tr>\n",
              "    <tr>\n",
              "      <th>Herbie Rides Again (1974)</th>\n",
              "      <td>5.0</td>\n",
              "      <td>2.000</td>\n",
              "    </tr>\n",
              "    <tr>\n",
              "      <th>Heavy (1995)</th>\n",
              "      <td>5.0</td>\n",
              "      <td>3.250</td>\n",
              "    </tr>\n",
              "    <tr>\n",
              "      <th>Hearts and Minds (1996)</th>\n",
              "      <td>5.0</td>\n",
              "      <td>NaN</td>\n",
              "    </tr>\n",
              "  </tbody>\n",
              "</table>\n",
              "</div>"
            ],
            "text/plain": [
              "gender                          F      M\n",
              "title                                   \n",
              "Rain (1932)                   5.0    NaN\n",
              "When We Were Kings (1996)     5.0  4.200\n",
              "I Dreamed of Africa (2000)    5.0  3.000\n",
              "Beautiful People (1999)       5.0  3.000\n",
              "Home for the Holidays (1995)  5.0    NaN\n",
              "Home Alone 3 (1997)           5.0  1.250\n",
              "High Plains Drifter (1972)    5.0  3.375\n",
              "Herbie Rides Again (1974)     5.0  2.000\n",
              "Heavy (1995)                  5.0  3.250\n",
              "Hearts and Minds (1996)       5.0    NaN"
            ]
          },
          "metadata": {
            "tags": []
          },
          "execution_count": 86
        }
      ]
    },
    {
      "metadata": {
        "id": "c6udH_z9MNSc",
        "colab_type": "code",
        "colab": {
          "autoexec": {
            "startup": false,
            "wait_interval": 0
          },
          "base_uri": "https://localhost:8080/",
          "height": 589
        },
        "outputId": "1839bcd1-9149-4da7-85b6-574f5a12491a",
        "executionInfo": {
          "status": "ok",
          "timestamp": 1529331819004,
          "user_tz": 180,
          "elapsed": 725,
          "user": {
            "displayName": "Matheus Freitag",
            "photoUrl": "//lh4.googleusercontent.com/-gO8k_I3xsNU/AAAAAAAAAAI/AAAAAAAAQdo/hXeXMc58kF4/s50-c-k-no/photo.jpg",
            "userId": "106168815179433009641"
          }
        }
      },
      "cell_type": "code",
      "source": [
        "#If we want to check which movies have the biggest difference in ratings between M and F users\n",
        "mean_ratings['diff'] = mean_ratings['M'] - mean_ratings['F']\n",
        "sorted_by_diff = mean_ratings.sort_index(by='diff')\n",
        "sorted_by_diff[:10]\n",
        "\n",
        "#Reverse the order of rows and then taking the first 15 rows\n",
        "sorted_by_diff[::-1][:15]"
      ],
      "execution_count": 91,
      "outputs": [
        {
          "output_type": "stream",
          "text": [
            "/usr/local/lib/python3.6/dist-packages/ipykernel_launcher.py:2: FutureWarning: by argument to sort_index is deprecated, please use .sort_values(by=...)\n",
            "  \n"
          ],
          "name": "stderr"
        },
        {
          "output_type": "execute_result",
          "data": {
            "text/html": [
              "<div>\n",
              "<style scoped>\n",
              "    .dataframe tbody tr th:only-of-type {\n",
              "        vertical-align: middle;\n",
              "    }\n",
              "\n",
              "    .dataframe tbody tr th {\n",
              "        vertical-align: top;\n",
              "    }\n",
              "\n",
              "    .dataframe thead th {\n",
              "        text-align: right;\n",
              "    }\n",
              "</style>\n",
              "<table border=\"1\" class=\"dataframe\">\n",
              "  <thead>\n",
              "    <tr style=\"text-align: right;\">\n",
              "      <th>gender</th>\n",
              "      <th>F</th>\n",
              "      <th>M</th>\n",
              "      <th>diff</th>\n",
              "    </tr>\n",
              "    <tr>\n",
              "      <th>title</th>\n",
              "      <th></th>\n",
              "      <th></th>\n",
              "      <th></th>\n",
              "    </tr>\n",
              "  </thead>\n",
              "  <tbody>\n",
              "    <tr>\n",
              "      <th>Your Friends and Neighbors (1998)</th>\n",
              "      <td>NaN</td>\n",
              "      <td>4.000000</td>\n",
              "      <td>NaN</td>\n",
              "    </tr>\n",
              "    <tr>\n",
              "      <th>Young Poisoner's Handbook, The (1995)</th>\n",
              "      <td>NaN</td>\n",
              "      <td>3.750000</td>\n",
              "      <td>NaN</td>\n",
              "    </tr>\n",
              "    <tr>\n",
              "      <th>Young Doctors in Love (1982)</th>\n",
              "      <td>NaN</td>\n",
              "      <td>3.000000</td>\n",
              "      <td>NaN</td>\n",
              "    </tr>\n",
              "    <tr>\n",
              "      <th>Year My Voice Broke, The (1987)</th>\n",
              "      <td>NaN</td>\n",
              "      <td>3.000000</td>\n",
              "      <td>NaN</td>\n",
              "    </tr>\n",
              "    <tr>\n",
              "      <th>Wrong Man, The (1956)</th>\n",
              "      <td>NaN</td>\n",
              "      <td>3.000000</td>\n",
              "      <td>NaN</td>\n",
              "    </tr>\n",
              "    <tr>\n",
              "      <th>World of Apu, The (Apur Sansar) (1959)</th>\n",
              "      <td>NaN</td>\n",
              "      <td>5.000000</td>\n",
              "      <td>NaN</td>\n",
              "    </tr>\n",
              "    <tr>\n",
              "      <th>Wonderland (1997)</th>\n",
              "      <td>3.0</td>\n",
              "      <td>NaN</td>\n",
              "      <td>NaN</td>\n",
              "    </tr>\n",
              "    <tr>\n",
              "      <th>Wonderful, Horrible Life of Leni Riefenstahl, The (Die Macht der Bilder) (1993)</th>\n",
              "      <td>NaN</td>\n",
              "      <td>4.666667</td>\n",
              "      <td>NaN</td>\n",
              "    </tr>\n",
              "    <tr>\n",
              "      <th>Woman on Top (2000)</th>\n",
              "      <td>3.0</td>\n",
              "      <td>NaN</td>\n",
              "      <td>NaN</td>\n",
              "    </tr>\n",
              "    <tr>\n",
              "      <th>Wolf Man, The (1941)</th>\n",
              "      <td>NaN</td>\n",
              "      <td>4.285714</td>\n",
              "      <td>NaN</td>\n",
              "    </tr>\n",
              "    <tr>\n",
              "      <th>Wisdom of Crocodiles, The (a.k.a. Immortality) (2000)</th>\n",
              "      <td>NaN</td>\n",
              "      <td>4.000000</td>\n",
              "      <td>NaN</td>\n",
              "    </tr>\n",
              "    <tr>\n",
              "      <th>Wisdom (1986)</th>\n",
              "      <td>NaN</td>\n",
              "      <td>2.000000</td>\n",
              "      <td>NaN</td>\n",
              "    </tr>\n",
              "    <tr>\n",
              "      <th>Wings (1927)</th>\n",
              "      <td>NaN</td>\n",
              "      <td>3.000000</td>\n",
              "      <td>NaN</td>\n",
              "    </tr>\n",
              "    <tr>\n",
              "      <th>Wild Reeds (1994)</th>\n",
              "      <td>NaN</td>\n",
              "      <td>4.000000</td>\n",
              "      <td>NaN</td>\n",
              "    </tr>\n",
              "    <tr>\n",
              "      <th>Wild Bunch, The (1969)</th>\n",
              "      <td>NaN</td>\n",
              "      <td>3.857143</td>\n",
              "      <td>NaN</td>\n",
              "    </tr>\n",
              "  </tbody>\n",
              "</table>\n",
              "</div>"
            ],
            "text/plain": [
              "gender                                                F         M  diff\n",
              "title                                                                  \n",
              "Your Friends and Neighbors (1998)                   NaN  4.000000   NaN\n",
              "Young Poisoner's Handbook, The (1995)               NaN  3.750000   NaN\n",
              "Young Doctors in Love (1982)                        NaN  3.000000   NaN\n",
              "Year My Voice Broke, The (1987)                     NaN  3.000000   NaN\n",
              "Wrong Man, The (1956)                               NaN  3.000000   NaN\n",
              "World of Apu, The (Apur Sansar) (1959)              NaN  5.000000   NaN\n",
              "Wonderland (1997)                                   3.0       NaN   NaN\n",
              "Wonderful, Horrible Life of Leni Riefenstahl, T...  NaN  4.666667   NaN\n",
              "Woman on Top (2000)                                 3.0       NaN   NaN\n",
              "Wolf Man, The (1941)                                NaN  4.285714   NaN\n",
              "Wisdom of Crocodiles, The (a.k.a. Immortality) ...  NaN  4.000000   NaN\n",
              "Wisdom (1986)                                       NaN  2.000000   NaN\n",
              "Wings (1927)                                        NaN  3.000000   NaN\n",
              "Wild Reeds (1994)                                   NaN  4.000000   NaN\n",
              "Wild Bunch, The (1969)                              NaN  3.857143   NaN"
            ]
          },
          "metadata": {
            "tags": []
          },
          "execution_count": 91
        }
      ]
    },
    {
      "metadata": {
        "id": "1XxSOHCkRAHV",
        "colab_type": "code",
        "colab": {
          "autoexec": {
            "startup": false,
            "wait_interval": 0
          },
          "base_uri": "https://localhost:8080/",
          "height": 243
        },
        "outputId": "0ae22e8b-37be-414b-b701-fa213bf992a4",
        "executionInfo": {
          "status": "ok",
          "timestamp": 1529332555247,
          "user_tz": 180,
          "elapsed": 959,
          "user": {
            "displayName": "Matheus Freitag",
            "photoUrl": "//lh4.googleusercontent.com/-gO8k_I3xsNU/AAAAAAAAAAI/AAAAAAAAQdo/hXeXMc58kF4/s50-c-k-no/photo.jpg",
            "userId": "106168815179433009641"
          }
        }
      },
      "cell_type": "code",
      "source": [
        "#If wanted the diff to be independent of gender - achievable by measuring variance of ratings\n",
        "\n",
        "# Standard deviation of rating grouped by title\n",
        "rating_std_by_title = data.groupby('title')['rating'].std()\n",
        "\n",
        "#Filter it down to active_titles\n",
        "rating_std_by_title = rating_std_by_title.loc[active_titles]\n",
        "\n",
        "#Order Series by value in descending order\n",
        "rating_std_by_title.sort_values(ascending=False)[:10]"
      ],
      "execution_count": 94,
      "outputs": [
        {
          "output_type": "execute_result",
          "data": {
            "text/plain": [
              "title\n",
              "Groundhog Day (1993)          1.009550\n",
              "Mission: Impossible (1996)    0.995002\n",
              "Jurassic Park (1993)          0.992304\n",
              "American Beauty (1999)        0.984421\n",
              "Airplane! (1980)              0.960198\n",
              "Men in Black (1997)           0.957427\n",
              "Fargo (1996)                  0.953170\n",
              "Matrix, The (1999)            0.948431\n",
              "Braveheart (1995)             0.943465\n",
              "Gladiator (2000)              0.939870\n",
              "Name: rating, dtype: float64"
            ]
          },
          "metadata": {
            "tags": []
          },
          "execution_count": 94
        }
      ]
    },
    {
      "metadata": {
        "id": "dKz-9ucMULQ0",
        "colab_type": "code",
        "colab": {
          "autoexec": {
            "startup": false,
            "wait_interval": 0
          }
        }
      },
      "cell_type": "code",
      "source": [
        ""
      ],
      "execution_count": 0,
      "outputs": []
    },
    {
      "metadata": {
        "id": "86SXyjQqVDTz",
        "colab_type": "text"
      },
      "cell_type": "markdown",
      "source": [
        "## US Baby Names Dataset"
      ]
    },
    {
      "metadata": {
        "id": "Cw34niiHW1Yo",
        "colab_type": "code",
        "colab": {
          "autoexec": {
            "startup": false,
            "wait_interval": 0
          },
          "base_uri": "https://localhost:8080/",
          "height": 363
        },
        "outputId": "a4527fbb-ec4f-4242-9561-6847ecfe12d6",
        "executionInfo": {
          "status": "ok",
          "timestamp": 1529414096390,
          "user_tz": 180,
          "elapsed": 657,
          "user": {
            "displayName": "Matheus Freitag",
            "photoUrl": "//lh4.googleusercontent.com/-gO8k_I3xsNU/AAAAAAAAAAI/AAAAAAAAQdo/hXeXMc58kF4/s50-c-k-no/photo.jpg",
            "userId": "106168815179433009641"
          }
        }
      },
      "cell_type": "code",
      "source": [
        "import pandas as pd\n",
        "\n",
        "names1880 = pd.read_csv('https://raw.githubusercontent.com/wesm/pydata-book/1st-edition/ch02/names/yob1880.txt', sep=',', header=None, names=[\"name\", \"sex\", \"births\"]) \n",
        "\n",
        "names1880[:10]"
      ],
      "execution_count": 6,
      "outputs": [
        {
          "output_type": "execute_result",
          "data": {
            "text/html": [
              "<div>\n",
              "<style scoped>\n",
              "    .dataframe tbody tr th:only-of-type {\n",
              "        vertical-align: middle;\n",
              "    }\n",
              "\n",
              "    .dataframe tbody tr th {\n",
              "        vertical-align: top;\n",
              "    }\n",
              "\n",
              "    .dataframe thead th {\n",
              "        text-align: right;\n",
              "    }\n",
              "</style>\n",
              "<table border=\"1\" class=\"dataframe\">\n",
              "  <thead>\n",
              "    <tr style=\"text-align: right;\">\n",
              "      <th></th>\n",
              "      <th>name</th>\n",
              "      <th>sex</th>\n",
              "      <th>births</th>\n",
              "    </tr>\n",
              "  </thead>\n",
              "  <tbody>\n",
              "    <tr>\n",
              "      <th>0</th>\n",
              "      <td>Mary</td>\n",
              "      <td>F</td>\n",
              "      <td>7065</td>\n",
              "    </tr>\n",
              "    <tr>\n",
              "      <th>1</th>\n",
              "      <td>Anna</td>\n",
              "      <td>F</td>\n",
              "      <td>2604</td>\n",
              "    </tr>\n",
              "    <tr>\n",
              "      <th>2</th>\n",
              "      <td>Emma</td>\n",
              "      <td>F</td>\n",
              "      <td>2003</td>\n",
              "    </tr>\n",
              "    <tr>\n",
              "      <th>3</th>\n",
              "      <td>Elizabeth</td>\n",
              "      <td>F</td>\n",
              "      <td>1939</td>\n",
              "    </tr>\n",
              "    <tr>\n",
              "      <th>4</th>\n",
              "      <td>Minnie</td>\n",
              "      <td>F</td>\n",
              "      <td>1746</td>\n",
              "    </tr>\n",
              "    <tr>\n",
              "      <th>5</th>\n",
              "      <td>Margaret</td>\n",
              "      <td>F</td>\n",
              "      <td>1578</td>\n",
              "    </tr>\n",
              "    <tr>\n",
              "      <th>6</th>\n",
              "      <td>Ida</td>\n",
              "      <td>F</td>\n",
              "      <td>1472</td>\n",
              "    </tr>\n",
              "    <tr>\n",
              "      <th>7</th>\n",
              "      <td>Alice</td>\n",
              "      <td>F</td>\n",
              "      <td>1414</td>\n",
              "    </tr>\n",
              "    <tr>\n",
              "      <th>8</th>\n",
              "      <td>Bertha</td>\n",
              "      <td>F</td>\n",
              "      <td>1320</td>\n",
              "    </tr>\n",
              "    <tr>\n",
              "      <th>9</th>\n",
              "      <td>Sarah</td>\n",
              "      <td>F</td>\n",
              "      <td>1288</td>\n",
              "    </tr>\n",
              "  </tbody>\n",
              "</table>\n",
              "</div>"
            ],
            "text/plain": [
              "        name sex  births\n",
              "0       Mary   F    7065\n",
              "1       Anna   F    2604\n",
              "2       Emma   F    2003\n",
              "3  Elizabeth   F    1939\n",
              "4     Minnie   F    1746\n",
              "5   Margaret   F    1578\n",
              "6        Ida   F    1472\n",
              "7      Alice   F    1414\n",
              "8     Bertha   F    1320\n",
              "9      Sarah   F    1288"
            ]
          },
          "metadata": {
            "tags": []
          },
          "execution_count": 6
        }
      ]
    },
    {
      "metadata": {
        "id": "hmBeYHRJYCSC",
        "colab_type": "code",
        "colab": {
          "autoexec": {
            "startup": false,
            "wait_interval": 0
          },
          "base_uri": "https://localhost:8080/",
          "height": 92
        },
        "outputId": "76b5c773-7e9b-4d9d-b951-60280a240900",
        "executionInfo": {
          "status": "ok",
          "timestamp": 1529414114187,
          "user_tz": 180,
          "elapsed": 659,
          "user": {
            "displayName": "Matheus Freitag",
            "photoUrl": "//lh4.googleusercontent.com/-gO8k_I3xsNU/AAAAAAAAAAI/AAAAAAAAQdo/hXeXMc58kF4/s50-c-k-no/photo.jpg",
            "userId": "106168815179433009641"
          }
        }
      },
      "cell_type": "code",
      "source": [
        "names1880.groupby('sex').births.sum()"
      ],
      "execution_count": 9,
      "outputs": [
        {
          "output_type": "execute_result",
          "data": {
            "text/plain": [
              "sex\n",
              "F     90993\n",
              "M    110493\n",
              "Name: births, dtype: int64"
            ]
          },
          "metadata": {
            "tags": []
          },
          "execution_count": 9
        }
      ]
    },
    {
      "metadata": {
        "id": "m67Tp5rLLpFc",
        "colab_type": "code",
        "colab": {
          "autoexec": {
            "startup": false,
            "wait_interval": 0
          },
          "base_uri": "https://localhost:8080/",
          "height": 1992
        },
        "outputId": "cf94974e-7132-4228-cdd0-765322496092",
        "executionInfo": {
          "status": "ok",
          "timestamp": 1529414686498,
          "user_tz": 180,
          "elapsed": 24353,
          "user": {
            "displayName": "Matheus Freitag",
            "photoUrl": "//lh4.googleusercontent.com/-gO8k_I3xsNU/AAAAAAAAAAI/AAAAAAAAQdo/hXeXMc58kF4/s50-c-k-no/photo.jpg",
            "userId": "106168815179433009641"
          }
        }
      },
      "cell_type": "code",
      "source": [
        "urlBase = 'https://raw.githubusercontent.com/wesm/pydata-book/1st-edition/ch02/names/yob'\n",
        "\n",
        "pieces = []\n",
        "columns = ['name', 'sex', 'births']\n",
        "for year in range(1880, 2011):\n",
        "  path = urlBase + str(year) + '.txt'\n",
        "  frame = pd.read_csv(path, names=columns)\n",
        "  frame['year'] = year\n",
        "  pieces.append(frame)\n",
        "  \n",
        "#concatenate all the pieces\n",
        "names = pd.concat(pieces, ignore_index=True)\n",
        "\n",
        "names"
      ],
      "execution_count": 11,
      "outputs": [
        {
          "output_type": "execute_result",
          "data": {
            "text/html": [
              "<div>\n",
              "<style scoped>\n",
              "    .dataframe tbody tr th:only-of-type {\n",
              "        vertical-align: middle;\n",
              "    }\n",
              "\n",
              "    .dataframe tbody tr th {\n",
              "        vertical-align: top;\n",
              "    }\n",
              "\n",
              "    .dataframe thead th {\n",
              "        text-align: right;\n",
              "    }\n",
              "</style>\n",
              "<table border=\"1\" class=\"dataframe\">\n",
              "  <thead>\n",
              "    <tr style=\"text-align: right;\">\n",
              "      <th></th>\n",
              "      <th>name</th>\n",
              "      <th>sex</th>\n",
              "      <th>births</th>\n",
              "      <th>year</th>\n",
              "    </tr>\n",
              "  </thead>\n",
              "  <tbody>\n",
              "    <tr>\n",
              "      <th>0</th>\n",
              "      <td>Mary</td>\n",
              "      <td>F</td>\n",
              "      <td>7065</td>\n",
              "      <td>1880</td>\n",
              "    </tr>\n",
              "    <tr>\n",
              "      <th>1</th>\n",
              "      <td>Anna</td>\n",
              "      <td>F</td>\n",
              "      <td>2604</td>\n",
              "      <td>1880</td>\n",
              "    </tr>\n",
              "    <tr>\n",
              "      <th>2</th>\n",
              "      <td>Emma</td>\n",
              "      <td>F</td>\n",
              "      <td>2003</td>\n",
              "      <td>1880</td>\n",
              "    </tr>\n",
              "    <tr>\n",
              "      <th>3</th>\n",
              "      <td>Elizabeth</td>\n",
              "      <td>F</td>\n",
              "      <td>1939</td>\n",
              "      <td>1880</td>\n",
              "    </tr>\n",
              "    <tr>\n",
              "      <th>4</th>\n",
              "      <td>Minnie</td>\n",
              "      <td>F</td>\n",
              "      <td>1746</td>\n",
              "      <td>1880</td>\n",
              "    </tr>\n",
              "    <tr>\n",
              "      <th>5</th>\n",
              "      <td>Margaret</td>\n",
              "      <td>F</td>\n",
              "      <td>1578</td>\n",
              "      <td>1880</td>\n",
              "    </tr>\n",
              "    <tr>\n",
              "      <th>6</th>\n",
              "      <td>Ida</td>\n",
              "      <td>F</td>\n",
              "      <td>1472</td>\n",
              "      <td>1880</td>\n",
              "    </tr>\n",
              "    <tr>\n",
              "      <th>7</th>\n",
              "      <td>Alice</td>\n",
              "      <td>F</td>\n",
              "      <td>1414</td>\n",
              "      <td>1880</td>\n",
              "    </tr>\n",
              "    <tr>\n",
              "      <th>8</th>\n",
              "      <td>Bertha</td>\n",
              "      <td>F</td>\n",
              "      <td>1320</td>\n",
              "      <td>1880</td>\n",
              "    </tr>\n",
              "    <tr>\n",
              "      <th>9</th>\n",
              "      <td>Sarah</td>\n",
              "      <td>F</td>\n",
              "      <td>1288</td>\n",
              "      <td>1880</td>\n",
              "    </tr>\n",
              "    <tr>\n",
              "      <th>10</th>\n",
              "      <td>Annie</td>\n",
              "      <td>F</td>\n",
              "      <td>1258</td>\n",
              "      <td>1880</td>\n",
              "    </tr>\n",
              "    <tr>\n",
              "      <th>11</th>\n",
              "      <td>Clara</td>\n",
              "      <td>F</td>\n",
              "      <td>1226</td>\n",
              "      <td>1880</td>\n",
              "    </tr>\n",
              "    <tr>\n",
              "      <th>12</th>\n",
              "      <td>Ella</td>\n",
              "      <td>F</td>\n",
              "      <td>1156</td>\n",
              "      <td>1880</td>\n",
              "    </tr>\n",
              "    <tr>\n",
              "      <th>13</th>\n",
              "      <td>Florence</td>\n",
              "      <td>F</td>\n",
              "      <td>1063</td>\n",
              "      <td>1880</td>\n",
              "    </tr>\n",
              "    <tr>\n",
              "      <th>14</th>\n",
              "      <td>Cora</td>\n",
              "      <td>F</td>\n",
              "      <td>1045</td>\n",
              "      <td>1880</td>\n",
              "    </tr>\n",
              "    <tr>\n",
              "      <th>15</th>\n",
              "      <td>Martha</td>\n",
              "      <td>F</td>\n",
              "      <td>1040</td>\n",
              "      <td>1880</td>\n",
              "    </tr>\n",
              "    <tr>\n",
              "      <th>16</th>\n",
              "      <td>Laura</td>\n",
              "      <td>F</td>\n",
              "      <td>1012</td>\n",
              "      <td>1880</td>\n",
              "    </tr>\n",
              "    <tr>\n",
              "      <th>17</th>\n",
              "      <td>Nellie</td>\n",
              "      <td>F</td>\n",
              "      <td>995</td>\n",
              "      <td>1880</td>\n",
              "    </tr>\n",
              "    <tr>\n",
              "      <th>18</th>\n",
              "      <td>Grace</td>\n",
              "      <td>F</td>\n",
              "      <td>982</td>\n",
              "      <td>1880</td>\n",
              "    </tr>\n",
              "    <tr>\n",
              "      <th>19</th>\n",
              "      <td>Carrie</td>\n",
              "      <td>F</td>\n",
              "      <td>949</td>\n",
              "      <td>1880</td>\n",
              "    </tr>\n",
              "    <tr>\n",
              "      <th>20</th>\n",
              "      <td>Maude</td>\n",
              "      <td>F</td>\n",
              "      <td>858</td>\n",
              "      <td>1880</td>\n",
              "    </tr>\n",
              "    <tr>\n",
              "      <th>21</th>\n",
              "      <td>Mabel</td>\n",
              "      <td>F</td>\n",
              "      <td>808</td>\n",
              "      <td>1880</td>\n",
              "    </tr>\n",
              "    <tr>\n",
              "      <th>22</th>\n",
              "      <td>Bessie</td>\n",
              "      <td>F</td>\n",
              "      <td>794</td>\n",
              "      <td>1880</td>\n",
              "    </tr>\n",
              "    <tr>\n",
              "      <th>23</th>\n",
              "      <td>Jennie</td>\n",
              "      <td>F</td>\n",
              "      <td>793</td>\n",
              "      <td>1880</td>\n",
              "    </tr>\n",
              "    <tr>\n",
              "      <th>24</th>\n",
              "      <td>Gertrude</td>\n",
              "      <td>F</td>\n",
              "      <td>787</td>\n",
              "      <td>1880</td>\n",
              "    </tr>\n",
              "    <tr>\n",
              "      <th>25</th>\n",
              "      <td>Julia</td>\n",
              "      <td>F</td>\n",
              "      <td>783</td>\n",
              "      <td>1880</td>\n",
              "    </tr>\n",
              "    <tr>\n",
              "      <th>26</th>\n",
              "      <td>Hattie</td>\n",
              "      <td>F</td>\n",
              "      <td>769</td>\n",
              "      <td>1880</td>\n",
              "    </tr>\n",
              "    <tr>\n",
              "      <th>27</th>\n",
              "      <td>Edith</td>\n",
              "      <td>F</td>\n",
              "      <td>768</td>\n",
              "      <td>1880</td>\n",
              "    </tr>\n",
              "    <tr>\n",
              "      <th>28</th>\n",
              "      <td>Mattie</td>\n",
              "      <td>F</td>\n",
              "      <td>704</td>\n",
              "      <td>1880</td>\n",
              "    </tr>\n",
              "    <tr>\n",
              "      <th>29</th>\n",
              "      <td>Rose</td>\n",
              "      <td>F</td>\n",
              "      <td>700</td>\n",
              "      <td>1880</td>\n",
              "    </tr>\n",
              "    <tr>\n",
              "      <th>...</th>\n",
              "      <td>...</td>\n",
              "      <td>...</td>\n",
              "      <td>...</td>\n",
              "      <td>...</td>\n",
              "    </tr>\n",
              "    <tr>\n",
              "      <th>1690754</th>\n",
              "      <td>Zaviyon</td>\n",
              "      <td>M</td>\n",
              "      <td>5</td>\n",
              "      <td>2010</td>\n",
              "    </tr>\n",
              "    <tr>\n",
              "      <th>1690755</th>\n",
              "      <td>Zaybrien</td>\n",
              "      <td>M</td>\n",
              "      <td>5</td>\n",
              "      <td>2010</td>\n",
              "    </tr>\n",
              "    <tr>\n",
              "      <th>1690756</th>\n",
              "      <td>Zayshawn</td>\n",
              "      <td>M</td>\n",
              "      <td>5</td>\n",
              "      <td>2010</td>\n",
              "    </tr>\n",
              "    <tr>\n",
              "      <th>1690757</th>\n",
              "      <td>Zayyan</td>\n",
              "      <td>M</td>\n",
              "      <td>5</td>\n",
              "      <td>2010</td>\n",
              "    </tr>\n",
              "    <tr>\n",
              "      <th>1690758</th>\n",
              "      <td>Zeal</td>\n",
              "      <td>M</td>\n",
              "      <td>5</td>\n",
              "      <td>2010</td>\n",
              "    </tr>\n",
              "    <tr>\n",
              "      <th>1690759</th>\n",
              "      <td>Zealan</td>\n",
              "      <td>M</td>\n",
              "      <td>5</td>\n",
              "      <td>2010</td>\n",
              "    </tr>\n",
              "    <tr>\n",
              "      <th>1690760</th>\n",
              "      <td>Zecharia</td>\n",
              "      <td>M</td>\n",
              "      <td>5</td>\n",
              "      <td>2010</td>\n",
              "    </tr>\n",
              "    <tr>\n",
              "      <th>1690761</th>\n",
              "      <td>Zeferino</td>\n",
              "      <td>M</td>\n",
              "      <td>5</td>\n",
              "      <td>2010</td>\n",
              "    </tr>\n",
              "    <tr>\n",
              "      <th>1690762</th>\n",
              "      <td>Zekariah</td>\n",
              "      <td>M</td>\n",
              "      <td>5</td>\n",
              "      <td>2010</td>\n",
              "    </tr>\n",
              "    <tr>\n",
              "      <th>1690763</th>\n",
              "      <td>Zeki</td>\n",
              "      <td>M</td>\n",
              "      <td>5</td>\n",
              "      <td>2010</td>\n",
              "    </tr>\n",
              "    <tr>\n",
              "      <th>1690764</th>\n",
              "      <td>Zeriah</td>\n",
              "      <td>M</td>\n",
              "      <td>5</td>\n",
              "      <td>2010</td>\n",
              "    </tr>\n",
              "    <tr>\n",
              "      <th>1690765</th>\n",
              "      <td>Zeshan</td>\n",
              "      <td>M</td>\n",
              "      <td>5</td>\n",
              "      <td>2010</td>\n",
              "    </tr>\n",
              "    <tr>\n",
              "      <th>1690766</th>\n",
              "      <td>Zhyier</td>\n",
              "      <td>M</td>\n",
              "      <td>5</td>\n",
              "      <td>2010</td>\n",
              "    </tr>\n",
              "    <tr>\n",
              "      <th>1690767</th>\n",
              "      <td>Zildjian</td>\n",
              "      <td>M</td>\n",
              "      <td>5</td>\n",
              "      <td>2010</td>\n",
              "    </tr>\n",
              "    <tr>\n",
              "      <th>1690768</th>\n",
              "      <td>Zinn</td>\n",
              "      <td>M</td>\n",
              "      <td>5</td>\n",
              "      <td>2010</td>\n",
              "    </tr>\n",
              "    <tr>\n",
              "      <th>1690769</th>\n",
              "      <td>Zishan</td>\n",
              "      <td>M</td>\n",
              "      <td>5</td>\n",
              "      <td>2010</td>\n",
              "    </tr>\n",
              "    <tr>\n",
              "      <th>1690770</th>\n",
              "      <td>Ziven</td>\n",
              "      <td>M</td>\n",
              "      <td>5</td>\n",
              "      <td>2010</td>\n",
              "    </tr>\n",
              "    <tr>\n",
              "      <th>1690771</th>\n",
              "      <td>Zmari</td>\n",
              "      <td>M</td>\n",
              "      <td>5</td>\n",
              "      <td>2010</td>\n",
              "    </tr>\n",
              "    <tr>\n",
              "      <th>1690772</th>\n",
              "      <td>Zoren</td>\n",
              "      <td>M</td>\n",
              "      <td>5</td>\n",
              "      <td>2010</td>\n",
              "    </tr>\n",
              "    <tr>\n",
              "      <th>1690773</th>\n",
              "      <td>Zuhaib</td>\n",
              "      <td>M</td>\n",
              "      <td>5</td>\n",
              "      <td>2010</td>\n",
              "    </tr>\n",
              "    <tr>\n",
              "      <th>1690774</th>\n",
              "      <td>Zyeire</td>\n",
              "      <td>M</td>\n",
              "      <td>5</td>\n",
              "      <td>2010</td>\n",
              "    </tr>\n",
              "    <tr>\n",
              "      <th>1690775</th>\n",
              "      <td>Zygmunt</td>\n",
              "      <td>M</td>\n",
              "      <td>5</td>\n",
              "      <td>2010</td>\n",
              "    </tr>\n",
              "    <tr>\n",
              "      <th>1690776</th>\n",
              "      <td>Zykerion</td>\n",
              "      <td>M</td>\n",
              "      <td>5</td>\n",
              "      <td>2010</td>\n",
              "    </tr>\n",
              "    <tr>\n",
              "      <th>1690777</th>\n",
              "      <td>Zylar</td>\n",
              "      <td>M</td>\n",
              "      <td>5</td>\n",
              "      <td>2010</td>\n",
              "    </tr>\n",
              "    <tr>\n",
              "      <th>1690778</th>\n",
              "      <td>Zylin</td>\n",
              "      <td>M</td>\n",
              "      <td>5</td>\n",
              "      <td>2010</td>\n",
              "    </tr>\n",
              "    <tr>\n",
              "      <th>1690779</th>\n",
              "      <td>Zymaire</td>\n",
              "      <td>M</td>\n",
              "      <td>5</td>\n",
              "      <td>2010</td>\n",
              "    </tr>\n",
              "    <tr>\n",
              "      <th>1690780</th>\n",
              "      <td>Zyonne</td>\n",
              "      <td>M</td>\n",
              "      <td>5</td>\n",
              "      <td>2010</td>\n",
              "    </tr>\n",
              "    <tr>\n",
              "      <th>1690781</th>\n",
              "      <td>Zyquarius</td>\n",
              "      <td>M</td>\n",
              "      <td>5</td>\n",
              "      <td>2010</td>\n",
              "    </tr>\n",
              "    <tr>\n",
              "      <th>1690782</th>\n",
              "      <td>Zyran</td>\n",
              "      <td>M</td>\n",
              "      <td>5</td>\n",
              "      <td>2010</td>\n",
              "    </tr>\n",
              "    <tr>\n",
              "      <th>1690783</th>\n",
              "      <td>Zzyzx</td>\n",
              "      <td>M</td>\n",
              "      <td>5</td>\n",
              "      <td>2010</td>\n",
              "    </tr>\n",
              "  </tbody>\n",
              "</table>\n",
              "<p>1690784 rows × 4 columns</p>\n",
              "</div>"
            ],
            "text/plain": [
              "              name sex  births  year\n",
              "0             Mary   F    7065  1880\n",
              "1             Anna   F    2604  1880\n",
              "2             Emma   F    2003  1880\n",
              "3        Elizabeth   F    1939  1880\n",
              "4           Minnie   F    1746  1880\n",
              "5         Margaret   F    1578  1880\n",
              "6              Ida   F    1472  1880\n",
              "7            Alice   F    1414  1880\n",
              "8           Bertha   F    1320  1880\n",
              "9            Sarah   F    1288  1880\n",
              "10           Annie   F    1258  1880\n",
              "11           Clara   F    1226  1880\n",
              "12            Ella   F    1156  1880\n",
              "13        Florence   F    1063  1880\n",
              "14            Cora   F    1045  1880\n",
              "15          Martha   F    1040  1880\n",
              "16           Laura   F    1012  1880\n",
              "17          Nellie   F     995  1880\n",
              "18           Grace   F     982  1880\n",
              "19          Carrie   F     949  1880\n",
              "20           Maude   F     858  1880\n",
              "21           Mabel   F     808  1880\n",
              "22          Bessie   F     794  1880\n",
              "23          Jennie   F     793  1880\n",
              "24        Gertrude   F     787  1880\n",
              "25           Julia   F     783  1880\n",
              "26          Hattie   F     769  1880\n",
              "27           Edith   F     768  1880\n",
              "28          Mattie   F     704  1880\n",
              "29            Rose   F     700  1880\n",
              "...            ...  ..     ...   ...\n",
              "1690754    Zaviyon   M       5  2010\n",
              "1690755   Zaybrien   M       5  2010\n",
              "1690756   Zayshawn   M       5  2010\n",
              "1690757     Zayyan   M       5  2010\n",
              "1690758       Zeal   M       5  2010\n",
              "1690759     Zealan   M       5  2010\n",
              "1690760   Zecharia   M       5  2010\n",
              "1690761   Zeferino   M       5  2010\n",
              "1690762   Zekariah   M       5  2010\n",
              "1690763       Zeki   M       5  2010\n",
              "1690764     Zeriah   M       5  2010\n",
              "1690765     Zeshan   M       5  2010\n",
              "1690766     Zhyier   M       5  2010\n",
              "1690767   Zildjian   M       5  2010\n",
              "1690768       Zinn   M       5  2010\n",
              "1690769     Zishan   M       5  2010\n",
              "1690770      Ziven   M       5  2010\n",
              "1690771      Zmari   M       5  2010\n",
              "1690772      Zoren   M       5  2010\n",
              "1690773     Zuhaib   M       5  2010\n",
              "1690774     Zyeire   M       5  2010\n",
              "1690775    Zygmunt   M       5  2010\n",
              "1690776   Zykerion   M       5  2010\n",
              "1690777      Zylar   M       5  2010\n",
              "1690778      Zylin   M       5  2010\n",
              "1690779    Zymaire   M       5  2010\n",
              "1690780     Zyonne   M       5  2010\n",
              "1690781  Zyquarius   M       5  2010\n",
              "1690782      Zyran   M       5  2010\n",
              "1690783      Zzyzx   M       5  2010\n",
              "\n",
              "[1690784 rows x 4 columns]"
            ]
          },
          "metadata": {
            "tags": []
          },
          "execution_count": 11
        }
      ]
    },
    {
      "metadata": {
        "id": "CasdDBllMeE3",
        "colab_type": "code",
        "colab": {
          "autoexec": {
            "startup": false,
            "wait_interval": 0
          },
          "base_uri": "https://localhost:8080/",
          "height": 238
        },
        "outputId": "d01cef3e-e1ba-4405-f671-961e4ce72bfc",
        "executionInfo": {
          "status": "ok",
          "timestamp": 1529415278007,
          "user_tz": 180,
          "elapsed": 840,
          "user": {
            "displayName": "Matheus Freitag",
            "photoUrl": "//lh4.googleusercontent.com/-gO8k_I3xsNU/AAAAAAAAAAI/AAAAAAAAQdo/hXeXMc58kF4/s50-c-k-no/photo.jpg",
            "userId": "106168815179433009641"
          }
        }
      },
      "cell_type": "code",
      "source": [
        "total_births = names.pivot_table('births', index='year', columns='sex', aggfunc=sum)\n",
        "total_births.tail()"
      ],
      "execution_count": 14,
      "outputs": [
        {
          "output_type": "execute_result",
          "data": {
            "text/html": [
              "<div>\n",
              "<style scoped>\n",
              "    .dataframe tbody tr th:only-of-type {\n",
              "        vertical-align: middle;\n",
              "    }\n",
              "\n",
              "    .dataframe tbody tr th {\n",
              "        vertical-align: top;\n",
              "    }\n",
              "\n",
              "    .dataframe thead th {\n",
              "        text-align: right;\n",
              "    }\n",
              "</style>\n",
              "<table border=\"1\" class=\"dataframe\">\n",
              "  <thead>\n",
              "    <tr style=\"text-align: right;\">\n",
              "      <th>sex</th>\n",
              "      <th>F</th>\n",
              "      <th>M</th>\n",
              "    </tr>\n",
              "    <tr>\n",
              "      <th>year</th>\n",
              "      <th></th>\n",
              "      <th></th>\n",
              "    </tr>\n",
              "  </thead>\n",
              "  <tbody>\n",
              "    <tr>\n",
              "      <th>2006</th>\n",
              "      <td>1896468</td>\n",
              "      <td>2050234</td>\n",
              "    </tr>\n",
              "    <tr>\n",
              "      <th>2007</th>\n",
              "      <td>1916888</td>\n",
              "      <td>2069242</td>\n",
              "    </tr>\n",
              "    <tr>\n",
              "      <th>2008</th>\n",
              "      <td>1883645</td>\n",
              "      <td>2032310</td>\n",
              "    </tr>\n",
              "    <tr>\n",
              "      <th>2009</th>\n",
              "      <td>1827643</td>\n",
              "      <td>1973359</td>\n",
              "    </tr>\n",
              "    <tr>\n",
              "      <th>2010</th>\n",
              "      <td>1759010</td>\n",
              "      <td>1898382</td>\n",
              "    </tr>\n",
              "  </tbody>\n",
              "</table>\n",
              "</div>"
            ],
            "text/plain": [
              "sex         F        M\n",
              "year                  \n",
              "2006  1896468  2050234\n",
              "2007  1916888  2069242\n",
              "2008  1883645  2032310\n",
              "2009  1827643  1973359\n",
              "2010  1759010  1898382"
            ]
          },
          "metadata": {
            "tags": []
          },
          "execution_count": 14
        }
      ]
    },
    {
      "metadata": {
        "id": "94ggaRQgR7Ln",
        "colab_type": "code",
        "colab": {
          "autoexec": {
            "startup": false,
            "wait_interval": 0
          },
          "base_uri": "https://localhost:8080/",
          "height": 395
        },
        "outputId": "d8e9587f-f740-461c-c0ad-9151564280b5",
        "executionInfo": {
          "status": "ok",
          "timestamp": 1529415713560,
          "user_tz": 180,
          "elapsed": 879,
          "user": {
            "displayName": "Matheus Freitag",
            "photoUrl": "//lh4.googleusercontent.com/-gO8k_I3xsNU/AAAAAAAAAAI/AAAAAAAAQdo/hXeXMc58kF4/s50-c-k-no/photo.jpg",
            "userId": "106168815179433009641"
          }
        }
      },
      "cell_type": "code",
      "source": [
        "total_births.plot(title='Total births by sex and year')"
      ],
      "execution_count": 17,
      "outputs": [
        {
          "output_type": "execute_result",
          "data": {
            "text/plain": [
              "<matplotlib.axes._subplots.AxesSubplot at 0x7f75e6fdc2b0>"
            ]
          },
          "metadata": {
            "tags": []
          },
          "execution_count": 17
        },
        {
          "output_type": "display_data",
          "data": {
            "image/png": "[encoded data removed]",
            "text/plain": [
              "<matplotlib.figure.Figure at 0x7f75e6fd8748>"
            ]
          },
          "metadata": {
            "tags": []
          }
        }
      ]
    },
    {
      "metadata": {
        "id": "4LymH5QGQIHF",
        "colab_type": "code",
        "colab": {
          "autoexec": {
            "startup": false,
            "wait_interval": 0
          },
          "base_uri": "https://localhost:8080/",
          "height": 1992
        },
        "outputId": "c9c22b3f-d4da-445b-a488-59202786cbe6",
        "executionInfo": {
          "status": "ok",
          "timestamp": 1529415663872,
          "user_tz": 180,
          "elapsed": 1601,
          "user": {
            "displayName": "Matheus Freitag",
            "photoUrl": "//lh4.googleusercontent.com/-gO8k_I3xsNU/AAAAAAAAAAI/AAAAAAAAQdo/hXeXMc58kF4/s50-c-k-no/photo.jpg",
            "userId": "106168815179433009641"
          }
        }
      },
      "cell_type": "code",
      "source": [
        "def add_prop(group):\n",
        "  births = group.births.astype(float)\n",
        "  group['prop'] = births / births.sum()\n",
        "  return group\n",
        "\n",
        "names = names.groupby(['year', 'sex']).apply(add_prop)\n",
        "\n",
        "names"
      ],
      "execution_count": 16,
      "outputs": [
        {
          "output_type": "execute_result",
          "data": {
            "text/html": [
              "<div>\n",
              "<style scoped>\n",
              "    .dataframe tbody tr th:only-of-type {\n",
              "        vertical-align: middle;\n",
              "    }\n",
              "\n",
              "    .dataframe tbody tr th {\n",
              "        vertical-align: top;\n",
              "    }\n",
              "\n",
              "    .dataframe thead th {\n",
              "        text-align: right;\n",
              "    }\n",
              "</style>\n",
              "<table border=\"1\" class=\"dataframe\">\n",
              "  <thead>\n",
              "    <tr style=\"text-align: right;\">\n",
              "      <th></th>\n",
              "      <th>name</th>\n",
              "      <th>sex</th>\n",
              "      <th>births</th>\n",
              "      <th>year</th>\n",
              "      <th>prop</th>\n",
              "    </tr>\n",
              "  </thead>\n",
              "  <tbody>\n",
              "    <tr>\n",
              "      <th>0</th>\n",
              "      <td>Mary</td>\n",
              "      <td>F</td>\n",
              "      <td>7065</td>\n",
              "      <td>1880</td>\n",
              "      <td>0.077643</td>\n",
              "    </tr>\n",
              "    <tr>\n",
              "      <th>1</th>\n",
              "      <td>Anna</td>\n",
              "      <td>F</td>\n",
              "      <td>2604</td>\n",
              "      <td>1880</td>\n",
              "      <td>0.028618</td>\n",
              "    </tr>\n",
              "    <tr>\n",
              "      <th>2</th>\n",
              "      <td>Emma</td>\n",
              "      <td>F</td>\n",
              "      <td>2003</td>\n",
              "      <td>1880</td>\n",
              "      <td>0.022013</td>\n",
              "    </tr>\n",
              "    <tr>\n",
              "      <th>3</th>\n",
              "      <td>Elizabeth</td>\n",
              "      <td>F</td>\n",
              "      <td>1939</td>\n",
              "      <td>1880</td>\n",
              "      <td>0.021309</td>\n",
              "    </tr>\n",
              "    <tr>\n",
              "      <th>4</th>\n",
              "      <td>Minnie</td>\n",
              "      <td>F</td>\n",
              "      <td>1746</td>\n",
              "      <td>1880</td>\n",
              "      <td>0.019188</td>\n",
              "    </tr>\n",
              "    <tr>\n",
              "      <th>5</th>\n",
              "      <td>Margaret</td>\n",
              "      <td>F</td>\n",
              "      <td>1578</td>\n",
              "      <td>1880</td>\n",
              "      <td>0.017342</td>\n",
              "    </tr>\n",
              "    <tr>\n",
              "      <th>6</th>\n",
              "      <td>Ida</td>\n",
              "      <td>F</td>\n",
              "      <td>1472</td>\n",
              "      <td>1880</td>\n",
              "      <td>0.016177</td>\n",
              "    </tr>\n",
              "    <tr>\n",
              "      <th>7</th>\n",
              "      <td>Alice</td>\n",
              "      <td>F</td>\n",
              "      <td>1414</td>\n",
              "      <td>1880</td>\n",
              "      <td>0.015540</td>\n",
              "    </tr>\n",
              "    <tr>\n",
              "      <th>8</th>\n",
              "      <td>Bertha</td>\n",
              "      <td>F</td>\n",
              "      <td>1320</td>\n",
              "      <td>1880</td>\n",
              "      <td>0.014507</td>\n",
              "    </tr>\n",
              "    <tr>\n",
              "      <th>9</th>\n",
              "      <td>Sarah</td>\n",
              "      <td>F</td>\n",
              "      <td>1288</td>\n",
              "      <td>1880</td>\n",
              "      <td>0.014155</td>\n",
              "    </tr>\n",
              "    <tr>\n",
              "      <th>10</th>\n",
              "      <td>Annie</td>\n",
              "      <td>F</td>\n",
              "      <td>1258</td>\n",
              "      <td>1880</td>\n",
              "      <td>0.013825</td>\n",
              "    </tr>\n",
              "    <tr>\n",
              "      <th>11</th>\n",
              "      <td>Clara</td>\n",
              "      <td>F</td>\n",
              "      <td>1226</td>\n",
              "      <td>1880</td>\n",
              "      <td>0.013474</td>\n",
              "    </tr>\n",
              "    <tr>\n",
              "      <th>12</th>\n",
              "      <td>Ella</td>\n",
              "      <td>F</td>\n",
              "      <td>1156</td>\n",
              "      <td>1880</td>\n",
              "      <td>0.012704</td>\n",
              "    </tr>\n",
              "    <tr>\n",
              "      <th>13</th>\n",
              "      <td>Florence</td>\n",
              "      <td>F</td>\n",
              "      <td>1063</td>\n",
              "      <td>1880</td>\n",
              "      <td>0.011682</td>\n",
              "    </tr>\n",
              "    <tr>\n",
              "      <th>14</th>\n",
              "      <td>Cora</td>\n",
              "      <td>F</td>\n",
              "      <td>1045</td>\n",
              "      <td>1880</td>\n",
              "      <td>0.011484</td>\n",
              "    </tr>\n",
              "    <tr>\n",
              "      <th>15</th>\n",
              "      <td>Martha</td>\n",
              "      <td>F</td>\n",
              "      <td>1040</td>\n",
              "      <td>1880</td>\n",
              "      <td>0.011429</td>\n",
              "    </tr>\n",
              "    <tr>\n",
              "      <th>16</th>\n",
              "      <td>Laura</td>\n",
              "      <td>F</td>\n",
              "      <td>1012</td>\n",
              "      <td>1880</td>\n",
              "      <td>0.011122</td>\n",
              "    </tr>\n",
              "    <tr>\n",
              "      <th>17</th>\n",
              "      <td>Nellie</td>\n",
              "      <td>F</td>\n",
              "      <td>995</td>\n",
              "      <td>1880</td>\n",
              "      <td>0.010935</td>\n",
              "    </tr>\n",
              "    <tr>\n",
              "      <th>18</th>\n",
              "      <td>Grace</td>\n",
              "      <td>F</td>\n",
              "      <td>982</td>\n",
              "      <td>1880</td>\n",
              "      <td>0.010792</td>\n",
              "    </tr>\n",
              "    <tr>\n",
              "      <th>19</th>\n",
              "      <td>Carrie</td>\n",
              "      <td>F</td>\n",
              "      <td>949</td>\n",
              "      <td>1880</td>\n",
              "      <td>0.010429</td>\n",
              "    </tr>\n",
              "    <tr>\n",
              "      <th>20</th>\n",
              "      <td>Maude</td>\n",
              "      <td>F</td>\n",
              "      <td>858</td>\n",
              "      <td>1880</td>\n",
              "      <td>0.009429</td>\n",
              "    </tr>\n",
              "    <tr>\n",
              "      <th>21</th>\n",
              "      <td>Mabel</td>\n",
              "      <td>F</td>\n",
              "      <td>808</td>\n",
              "      <td>1880</td>\n",
              "      <td>0.008880</td>\n",
              "    </tr>\n",
              "    <tr>\n",
              "      <th>22</th>\n",
              "      <td>Bessie</td>\n",
              "      <td>F</td>\n",
              "      <td>794</td>\n",
              "      <td>1880</td>\n",
              "      <td>0.008726</td>\n",
              "    </tr>\n",
              "    <tr>\n",
              "      <th>23</th>\n",
              "      <td>Jennie</td>\n",
              "      <td>F</td>\n",
              "      <td>793</td>\n",
              "      <td>1880</td>\n",
              "      <td>0.008715</td>\n",
              "    </tr>\n",
              "    <tr>\n",
              "      <th>24</th>\n",
              "      <td>Gertrude</td>\n",
              "      <td>F</td>\n",
              "      <td>787</td>\n",
              "      <td>1880</td>\n",
              "      <td>0.008649</td>\n",
              "    </tr>\n",
              "    <tr>\n",
              "      <th>25</th>\n",
              "      <td>Julia</td>\n",
              "      <td>F</td>\n",
              "      <td>783</td>\n",
              "      <td>1880</td>\n",
              "      <td>0.008605</td>\n",
              "    </tr>\n",
              "    <tr>\n",
              "      <th>26</th>\n",
              "      <td>Hattie</td>\n",
              "      <td>F</td>\n",
              "      <td>769</td>\n",
              "      <td>1880</td>\n",
              "      <td>0.008451</td>\n",
              "    </tr>\n",
              "    <tr>\n",
              "      <th>27</th>\n",
              "      <td>Edith</td>\n",
              "      <td>F</td>\n",
              "      <td>768</td>\n",
              "      <td>1880</td>\n",
              "      <td>0.008440</td>\n",
              "    </tr>\n",
              "    <tr>\n",
              "      <th>28</th>\n",
              "      <td>Mattie</td>\n",
              "      <td>F</td>\n",
              "      <td>704</td>\n",
              "      <td>1880</td>\n",
              "      <td>0.007737</td>\n",
              "    </tr>\n",
              "    <tr>\n",
              "      <th>29</th>\n",
              "      <td>Rose</td>\n",
              "      <td>F</td>\n",
              "      <td>700</td>\n",
              "      <td>1880</td>\n",
              "      <td>0.007693</td>\n",
              "    </tr>\n",
              "    <tr>\n",
              "      <th>...</th>\n",
              "      <td>...</td>\n",
              "      <td>...</td>\n",
              "      <td>...</td>\n",
              "      <td>...</td>\n",
              "      <td>...</td>\n",
              "    </tr>\n",
              "    <tr>\n",
              "      <th>1690754</th>\n",
              "      <td>Zaviyon</td>\n",
              "      <td>M</td>\n",
              "      <td>5</td>\n",
              "      <td>2010</td>\n",
              "      <td>0.000003</td>\n",
              "    </tr>\n",
              "    <tr>\n",
              "      <th>1690755</th>\n",
              "      <td>Zaybrien</td>\n",
              "      <td>M</td>\n",
              "      <td>5</td>\n",
              "      <td>2010</td>\n",
              "      <td>0.000003</td>\n",
              "    </tr>\n",
              "    <tr>\n",
              "      <th>1690756</th>\n",
              "      <td>Zayshawn</td>\n",
              "      <td>M</td>\n",
              "      <td>5</td>\n",
              "      <td>2010</td>\n",
              "      <td>0.000003</td>\n",
              "    </tr>\n",
              "    <tr>\n",
              "      <th>1690757</th>\n",
              "      <td>Zayyan</td>\n",
              "      <td>M</td>\n",
              "      <td>5</td>\n",
              "      <td>2010</td>\n",
              "      <td>0.000003</td>\n",
              "    </tr>\n",
              "    <tr>\n",
              "      <th>1690758</th>\n",
              "      <td>Zeal</td>\n",
              "      <td>M</td>\n",
              "      <td>5</td>\n",
              "      <td>2010</td>\n",
              "      <td>0.000003</td>\n",
              "    </tr>\n",
              "    <tr>\n",
              "      <th>1690759</th>\n",
              "      <td>Zealan</td>\n",
              "      <td>M</td>\n",
              "      <td>5</td>\n",
              "      <td>2010</td>\n",
              "      <td>0.000003</td>\n",
              "    </tr>\n",
              "    <tr>\n",
              "      <th>1690760</th>\n",
              "      <td>Zecharia</td>\n",
              "      <td>M</td>\n",
              "      <td>5</td>\n",
              "      <td>2010</td>\n",
              "      <td>0.000003</td>\n",
              "    </tr>\n",
              "    <tr>\n",
              "      <th>1690761</th>\n",
              "      <td>Zeferino</td>\n",
              "      <td>M</td>\n",
              "      <td>5</td>\n",
              "      <td>2010</td>\n",
              "      <td>0.000003</td>\n",
              "    </tr>\n",
              "    <tr>\n",
              "      <th>1690762</th>\n",
              "      <td>Zekariah</td>\n",
              "      <td>M</td>\n",
              "      <td>5</td>\n",
              "      <td>2010</td>\n",
              "      <td>0.000003</td>\n",
              "    </tr>\n",
              "    <tr>\n",
              "      <th>1690763</th>\n",
              "      <td>Zeki</td>\n",
              "      <td>M</td>\n",
              "      <td>5</td>\n",
              "      <td>2010</td>\n",
              "      <td>0.000003</td>\n",
              "    </tr>\n",
              "    <tr>\n",
              "      <th>1690764</th>\n",
              "      <td>Zeriah</td>\n",
              "      <td>M</td>\n",
              "      <td>5</td>\n",
              "      <td>2010</td>\n",
              "      <td>0.000003</td>\n",
              "    </tr>\n",
              "    <tr>\n",
              "      <th>1690765</th>\n",
              "      <td>Zeshan</td>\n",
              "      <td>M</td>\n",
              "      <td>5</td>\n",
              "      <td>2010</td>\n",
              "      <td>0.000003</td>\n",
              "    </tr>\n",
              "    <tr>\n",
              "      <th>1690766</th>\n",
              "      <td>Zhyier</td>\n",
              "      <td>M</td>\n",
              "      <td>5</td>\n",
              "      <td>2010</td>\n",
              "      <td>0.000003</td>\n",
              "    </tr>\n",
              "    <tr>\n",
              "      <th>1690767</th>\n",
              "      <td>Zildjian</td>\n",
              "      <td>M</td>\n",
              "      <td>5</td>\n",
              "      <td>2010</td>\n",
              "      <td>0.000003</td>\n",
              "    </tr>\n",
              "    <tr>\n",
              "      <th>1690768</th>\n",
              "      <td>Zinn</td>\n",
              "      <td>M</td>\n",
              "      <td>5</td>\n",
              "      <td>2010</td>\n",
              "      <td>0.000003</td>\n",
              "    </tr>\n",
              "    <tr>\n",
              "      <th>1690769</th>\n",
              "      <td>Zishan</td>\n",
              "      <td>M</td>\n",
              "      <td>5</td>\n",
              "      <td>2010</td>\n",
              "      <td>0.000003</td>\n",
              "    </tr>\n",
              "    <tr>\n",
              "      <th>1690770</th>\n",
              "      <td>Ziven</td>\n",
              "      <td>M</td>\n",
              "      <td>5</td>\n",
              "      <td>2010</td>\n",
              "      <td>0.000003</td>\n",
              "    </tr>\n",
              "    <tr>\n",
              "      <th>1690771</th>\n",
              "      <td>Zmari</td>\n",
              "      <td>M</td>\n",
              "      <td>5</td>\n",
              "      <td>2010</td>\n",
              "      <td>0.000003</td>\n",
              "    </tr>\n",
              "    <tr>\n",
              "      <th>1690772</th>\n",
              "      <td>Zoren</td>\n",
              "      <td>M</td>\n",
              "      <td>5</td>\n",
              "      <td>2010</td>\n",
              "      <td>0.000003</td>\n",
              "    </tr>\n",
              "    <tr>\n",
              "      <th>1690773</th>\n",
              "      <td>Zuhaib</td>\n",
              "      <td>M</td>\n",
              "      <td>5</td>\n",
              "      <td>2010</td>\n",
              "      <td>0.000003</td>\n",
              "    </tr>\n",
              "    <tr>\n",
              "      <th>1690774</th>\n",
              "      <td>Zyeire</td>\n",
              "      <td>M</td>\n",
              "      <td>5</td>\n",
              "      <td>2010</td>\n",
              "      <td>0.000003</td>\n",
              "    </tr>\n",
              "    <tr>\n",
              "      <th>1690775</th>\n",
              "      <td>Zygmunt</td>\n",
              "      <td>M</td>\n",
              "      <td>5</td>\n",
              "      <td>2010</td>\n",
              "      <td>0.000003</td>\n",
              "    </tr>\n",
              "    <tr>\n",
              "      <th>1690776</th>\n",
              "      <td>Zykerion</td>\n",
              "      <td>M</td>\n",
              "      <td>5</td>\n",
              "      <td>2010</td>\n",
              "      <td>0.000003</td>\n",
              "    </tr>\n",
              "    <tr>\n",
              "      <th>1690777</th>\n",
              "      <td>Zylar</td>\n",
              "      <td>M</td>\n",
              "      <td>5</td>\n",
              "      <td>2010</td>\n",
              "      <td>0.000003</td>\n",
              "    </tr>\n",
              "    <tr>\n",
              "      <th>1690778</th>\n",
              "      <td>Zylin</td>\n",
              "      <td>M</td>\n",
              "      <td>5</td>\n",
              "      <td>2010</td>\n",
              "      <td>0.000003</td>\n",
              "    </tr>\n",
              "    <tr>\n",
              "      <th>1690779</th>\n",
              "      <td>Zymaire</td>\n",
              "      <td>M</td>\n",
              "      <td>5</td>\n",
              "      <td>2010</td>\n",
              "      <td>0.000003</td>\n",
              "    </tr>\n",
              "    <tr>\n",
              "      <th>1690780</th>\n",
              "      <td>Zyonne</td>\n",
              "      <td>M</td>\n",
              "      <td>5</td>\n",
              "      <td>2010</td>\n",
              "      <td>0.000003</td>\n",
              "    </tr>\n",
              "    <tr>\n",
              "      <th>1690781</th>\n",
              "      <td>Zyquarius</td>\n",
              "      <td>M</td>\n",
              "      <td>5</td>\n",
              "      <td>2010</td>\n",
              "      <td>0.000003</td>\n",
              "    </tr>\n",
              "    <tr>\n",
              "      <th>1690782</th>\n",
              "      <td>Zyran</td>\n",
              "      <td>M</td>\n",
              "      <td>5</td>\n",
              "      <td>2010</td>\n",
              "      <td>0.000003</td>\n",
              "    </tr>\n",
              "    <tr>\n",
              "      <th>1690783</th>\n",
              "      <td>Zzyzx</td>\n",
              "      <td>M</td>\n",
              "      <td>5</td>\n",
              "      <td>2010</td>\n",
              "      <td>0.000003</td>\n",
              "    </tr>\n",
              "  </tbody>\n",
              "</table>\n",
              "<p>1690784 rows × 5 columns</p>\n",
              "</div>"
            ],
            "text/plain": [
              "              name sex  births  year      prop\n",
              "0             Mary   F    7065  1880  0.077643\n",
              "1             Anna   F    2604  1880  0.028618\n",
              "2             Emma   F    2003  1880  0.022013\n",
              "3        Elizabeth   F    1939  1880  0.021309\n",
              "4           Minnie   F    1746  1880  0.019188\n",
              "5         Margaret   F    1578  1880  0.017342\n",
              "6              Ida   F    1472  1880  0.016177\n",
              "7            Alice   F    1414  1880  0.015540\n",
              "8           Bertha   F    1320  1880  0.014507\n",
              "9            Sarah   F    1288  1880  0.014155\n",
              "10           Annie   F    1258  1880  0.013825\n",
              "11           Clara   F    1226  1880  0.013474\n",
              "12            Ella   F    1156  1880  0.012704\n",
              "13        Florence   F    1063  1880  0.011682\n",
              "14            Cora   F    1045  1880  0.011484\n",
              "15          Martha   F    1040  1880  0.011429\n",
              "16           Laura   F    1012  1880  0.011122\n",
              "17          Nellie   F     995  1880  0.010935\n",
              "18           Grace   F     982  1880  0.010792\n",
              "19          Carrie   F     949  1880  0.010429\n",
              "20           Maude   F     858  1880  0.009429\n",
              "21           Mabel   F     808  1880  0.008880\n",
              "22          Bessie   F     794  1880  0.008726\n",
              "23          Jennie   F     793  1880  0.008715\n",
              "24        Gertrude   F     787  1880  0.008649\n",
              "25           Julia   F     783  1880  0.008605\n",
              "26          Hattie   F     769  1880  0.008451\n",
              "27           Edith   F     768  1880  0.008440\n",
              "28          Mattie   F     704  1880  0.007737\n",
              "29            Rose   F     700  1880  0.007693\n",
              "...            ...  ..     ...   ...       ...\n",
              "1690754    Zaviyon   M       5  2010  0.000003\n",
              "1690755   Zaybrien   M       5  2010  0.000003\n",
              "1690756   Zayshawn   M       5  2010  0.000003\n",
              "1690757     Zayyan   M       5  2010  0.000003\n",
              "1690758       Zeal   M       5  2010  0.000003\n",
              "1690759     Zealan   M       5  2010  0.000003\n",
              "1690760   Zecharia   M       5  2010  0.000003\n",
              "1690761   Zeferino   M       5  2010  0.000003\n",
              "1690762   Zekariah   M       5  2010  0.000003\n",
              "1690763       Zeki   M       5  2010  0.000003\n",
              "1690764     Zeriah   M       5  2010  0.000003\n",
              "1690765     Zeshan   M       5  2010  0.000003\n",
              "1690766     Zhyier   M       5  2010  0.000003\n",
              "1690767   Zildjian   M       5  2010  0.000003\n",
              "1690768       Zinn   M       5  2010  0.000003\n",
              "1690769     Zishan   M       5  2010  0.000003\n",
              "1690770      Ziven   M       5  2010  0.000003\n",
              "1690771      Zmari   M       5  2010  0.000003\n",
              "1690772      Zoren   M       5  2010  0.000003\n",
              "1690773     Zuhaib   M       5  2010  0.000003\n",
              "1690774     Zyeire   M       5  2010  0.000003\n",
              "1690775    Zygmunt   M       5  2010  0.000003\n",
              "1690776   Zykerion   M       5  2010  0.000003\n",
              "1690777      Zylar   M       5  2010  0.000003\n",
              "1690778      Zylin   M       5  2010  0.000003\n",
              "1690779    Zymaire   M       5  2010  0.000003\n",
              "1690780     Zyonne   M       5  2010  0.000003\n",
              "1690781  Zyquarius   M       5  2010  0.000003\n",
              "1690782      Zyran   M       5  2010  0.000003\n",
              "1690783      Zzyzx   M       5  2010  0.000003\n",
              "\n",
              "[1690784 rows x 5 columns]"
            ]
          },
          "metadata": {
            "tags": []
          },
          "execution_count": 16
        }
      ]
    },
    {
      "metadata": {
        "id": "8lZ0yVk2Ui9a",
        "colab_type": "code",
        "colab": {
          "autoexec": {
            "startup": false,
            "wait_interval": 0
          },
          "base_uri": "https://localhost:8080/",
          "height": 36
        },
        "outputId": "2e54c5ab-37ff-4103-e45f-1be5584e4216",
        "executionInfo": {
          "status": "ok",
          "timestamp": 1529416796378,
          "user_tz": 180,
          "elapsed": 597,
          "user": {
            "displayName": "Matheus Freitag",
            "photoUrl": "//lh4.googleusercontent.com/-gO8k_I3xsNU/AAAAAAAAAAI/AAAAAAAAQdo/hXeXMc58kF4/s50-c-k-no/photo.jpg",
            "userId": "106168815179433009641"
          }
        }
      },
      "cell_type": "code",
      "source": [
        "#It is good to check if all the props column sum to 1 (since its float, might not be exactly but suficciently close)\n",
        "import numpy as np\n",
        "np.allclose(names.groupby(['year','sex']).prop.sum(), 1)"
      ],
      "execution_count": 21,
      "outputs": [
        {
          "output_type": "execute_result",
          "data": {
            "text/plain": [
              "True"
            ]
          },
          "metadata": {
            "tags": []
          },
          "execution_count": 21
        }
      ]
    },
    {
      "metadata": {
        "id": "_nqyHzCiV_bn",
        "colab_type": "code",
        "colab": {
          "autoexec": {
            "startup": false,
            "wait_interval": 0
          },
          "base_uri": "https://localhost:8080/",
          "height": 36
        },
        "outputId": "c3b48bc1-d659-4942-97a7-e9094e462fb1",
        "executionInfo": {
          "status": "ok",
          "timestamp": 1529417435298,
          "user_tz": 180,
          "elapsed": 1367,
          "user": {
            "displayName": "Matheus Freitag",
            "photoUrl": "//lh4.googleusercontent.com/-gO8k_I3xsNU/AAAAAAAAAAI/AAAAAAAAQdo/hXeXMc58kF4/s50-c-k-no/photo.jpg",
            "userId": "106168815179433009641"
          }
        }
      },
      "cell_type": "code",
      "source": [
        "#Now to get the top 1000 for each sex/year combination\n",
        "\n",
        "def get_top1000(group):\n",
        "  return group.sort_values(by='births', ascending=False)[:1000]\n",
        "\n",
        "grouped = names.groupby(['year', 'sex'])\n",
        "top1000 = grouped.apply(get_top1000)\n",
        "\n",
        "\n",
        "len(top1000)"
      ],
      "execution_count": 26,
      "outputs": [
        {
          "output_type": "execute_result",
          "data": {
            "text/plain": [
              "261877"
            ]
          },
          "metadata": {
            "tags": []
          },
          "execution_count": 26
        }
      ]
    },
    {
      "metadata": {
        "id": "kH05RL2yX_Za",
        "colab_type": "code",
        "colab": {
          "autoexec": {
            "startup": false,
            "wait_interval": 0
          },
          "base_uri": "https://localhost:8080/",
          "height": 695
        },
        "outputId": "10770678-c46f-4f70-9c32-0611094b4177",
        "executionInfo": {
          "status": "ok",
          "timestamp": 1529418030403,
          "user_tz": 180,
          "elapsed": 2030,
          "user": {
            "displayName": "Matheus Freitag",
            "photoUrl": "//lh4.googleusercontent.com/-gO8k_I3xsNU/AAAAAAAAAAI/AAAAAAAAQdo/hXeXMc58kF4/s50-c-k-no/photo.jpg",
            "userId": "106168815179433009641"
          }
        }
      },
      "cell_type": "code",
      "source": [
        "total_births = top1000.pivot_table('births', index='year', columns='name', aggfunc=sum)\n",
        "subset = total_births[['John', 'Harry', 'Mary', 'Matthew']]\n",
        "\n",
        "subset.plot(subplots=False, figsize=(12,10), grid=False, title='Number of births per year')"
      ],
      "execution_count": 33,
      "outputs": [
        {
          "output_type": "stream",
          "text": [
            "/usr/local/lib/python3.6/dist-packages/pandas/core/reshape/pivot.py:81: FutureWarning: 'year' is both a column name and an index level.\n",
            "Defaulting to column but this will raise an ambiguity error in a future version\n",
            "  grouped = data.groupby(keys)\n"
          ],
          "name": "stderr"
        },
        {
          "output_type": "execute_result",
          "data": {
            "text/plain": [
              "<matplotlib.axes._subplots.AxesSubplot at 0x7f75e3118da0>"
            ]
          },
          "metadata": {
            "tags": []
          },
          "execution_count": 33
        },
        {
          "output_type": "display_data",
          "data": {
            "image/png": "[encoded data removed]",
            "text/plain": [
              "<matplotlib.figure.Figure at 0x7f75e30b1be0>"
            ]
          },
          "metadata": {
            "tags": []
          }
        }
      ]
    },
    {
      "metadata": {
        "id": "q2s0wsuwZf32",
        "colab_type": "code",
        "colab": {
          "autoexec": {
            "startup": false,
            "wait_interval": 0
          }
        }
      },
      "cell_type": "code",
      "source": [
        "boys = top1000[top1000['sex'] == 'M']\n",
        "girls = top1000[top1000['sex'] == 'F']"
      ],
      "execution_count": 0,
      "outputs": []
    },
    {
      "metadata": {
        "id": "Q2uXCk-PahY1",
        "colab_type": "code",
        "colab": {
          "autoexec": {
            "startup": false,
            "wait_interval": 0
          },
          "base_uri": "https://localhost:8080/",
          "height": 508
        },
        "outputId": "2e996187-8e68-4034-f62c-0d35ff40487d",
        "executionInfo": {
          "status": "ok",
          "timestamp": 1529419320154,
          "user_tz": 180,
          "elapsed": 1418,
          "user": {
            "displayName": "Matheus Freitag",
            "photoUrl": "//lh4.googleusercontent.com/-gO8k_I3xsNU/AAAAAAAAAAI/AAAAAAAAQdo/hXeXMc58kF4/s50-c-k-no/photo.jpg",
            "userId": "106168815179433009641"
          }
        }
      },
      "cell_type": "code",
      "source": [
        "#Names are becoming more diverse. The proof:\n",
        "table = top1000.pivot_table('prop', index='year',columns='sex', aggfunc=sum)\n",
        "table.plot(title='Sum of table1000.prop by year and sex', yticks=np.linspace(0, 1.2, 13), xticks=range(1880, 2020, 10))\n"
      ],
      "execution_count": 35,
      "outputs": [
        {
          "output_type": "stream",
          "text": [
            "/usr/local/lib/python3.6/dist-packages/pandas/core/reshape/pivot.py:81: FutureWarning: 'year' is both a column name and an index level.\n",
            "Defaulting to column but this will raise an ambiguity error in a future version\n",
            "  grouped = data.groupby(keys)\n",
            "/usr/local/lib/python3.6/dist-packages/pandas/core/reshape/pivot.py:81: FutureWarning: 'sex' is both a column name and an index level.\n",
            "Defaulting to column but this will raise an ambiguity error in a future version\n",
            "  grouped = data.groupby(keys)\n"
          ],
          "name": "stderr"
        },
        {
          "output_type": "execute_result",
          "data": {
            "text/plain": [
              "<matplotlib.axes._subplots.AxesSubplot at 0x7f75e32c5278>"
            ]
          },
          "metadata": {
            "tags": []
          },
          "execution_count": 35
        },
        {
          "output_type": "display_data",
          "data": {
            "image/png": "[encoded data removed]",
            "text/plain": [
              "<matplotlib.figure.Figure at 0x7f75e30b1860>"
            ]
          },
          "metadata": {
            "tags": []
          }
        }
      ]
    },
    {
      "metadata": {
        "id": "U2onljqOfpv6",
        "colab_type": "code",
        "colab": {
          "autoexec": {
            "startup": false,
            "wait_interval": 0
          },
          "base_uri": "https://localhost:8080/",
          "height": 74
        },
        "outputId": "0e31cda8-43f2-487d-f03e-75e1ad224ae4",
        "executionInfo": {
          "status": "ok",
          "timestamp": 1529419655640,
          "user_tz": 180,
          "elapsed": 807,
          "user": {
            "displayName": "Matheus Freitag",
            "photoUrl": "//lh4.googleusercontent.com/-gO8k_I3xsNU/AAAAAAAAAAI/AAAAAAAAQdo/hXeXMc58kF4/s50-c-k-no/photo.jpg",
            "userId": "106168815179433009641"
          }
        }
      },
      "cell_type": "code",
      "source": [
        "df = boys[boys.year == 2010]\n",
        "prop_cumsum = df.sort_index(by='prop', ascending=False).prop.cumsum()\n",
        "prop_cumsum[:10]\n",
        "\n",
        "prop_cumsum.searchsorted(0.5)"
      ],
      "execution_count": 38,
      "outputs": [
        {
          "output_type": "stream",
          "text": [
            "/usr/local/lib/python3.6/dist-packages/ipykernel_launcher.py:2: FutureWarning: by argument to sort_index is deprecated, please use .sort_values(by=...)\n",
            "  \n"
          ],
          "name": "stderr"
        },
        {
          "output_type": "execute_result",
          "data": {
            "text/plain": [
              "array([116])"
            ]
          },
          "metadata": {
            "tags": []
          },
          "execution_count": 38
        }
      ]
    },
    {
      "metadata": {
        "id": "tYiiJTIrk9v_",
        "colab_type": "code",
        "colab": {
          "autoexec": {
            "startup": false,
            "wait_interval": 0
          }
        }
      },
      "cell_type": "code",
      "source": [
        ""
      ],
      "execution_count": 0,
      "outputs": []
    }
  ]
}