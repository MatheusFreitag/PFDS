{
  "nbformat": 4,
  "nbformat_minor": 0,
  "metadata": {
    "colab": {
      "name": "Flow Funds.ipynb",
      "version": "0.3.2",
      "provenance": []
    },
    "kernelspec": {
      "name": "python3",
      "display_name": "Python 3"
    }
  },
  "cells": [
    {
      "metadata": {
        "id": "CHasy66lKAGR",
        "colab_type": "text"
      },
      "cell_type": "markdown",
      "source": [
        "## Step 1, 2 & 3. Import the necessary libraries, the dataset from this address and assign it to a variable called df"
      ]
    },
    {
      "metadata": {
        "id": "etS4QtaOKJBb",
        "colab_type": "code",
        "colab": {}
      },
      "cell_type": "code",
      "source": [
        "import pandas as pd "
      ],
      "execution_count": 0,
      "outputs": []
    },
    {
      "metadata": {
        "id": "R6pS6RQp9oMt",
        "colab_type": "code",
        "colab": {}
      },
      "cell_type": "code",
      "source": [
        "df = pd.read_csv('https://raw.githubusercontent.com/datasets/investor-flow-of-funds-us/master/data/weekly.csv')"
      ],
      "execution_count": 0,
      "outputs": []
    },
    {
      "metadata": {
        "id": "Z7t5U4sh9zLV",
        "colab_type": "code",
        "colab": {
          "base_uri": "https://localhost:8080/",
          "height": 206
        },
        "outputId": "a1a8a81d-84ca-43a5-8c61-6043c95b1df5"
      },
      "cell_type": "code",
      "source": [
        "df.head()"
      ],
      "execution_count": 4,
      "outputs": [
        {
          "output_type": "execute_result",
          "data": {
            "text/html": [
              "<div>\n",
              "<style scoped>\n",
              "    .dataframe tbody tr th:only-of-type {\n",
              "        vertical-align: middle;\n",
              "    }\n",
              "\n",
              "    .dataframe tbody tr th {\n",
              "        vertical-align: top;\n",
              "    }\n",
              "\n",
              "    .dataframe thead th {\n",
              "        text-align: right;\n",
              "    }\n",
              "</style>\n",
              "<table border=\"1\" class=\"dataframe\">\n",
              "  <thead>\n",
              "    <tr style=\"text-align: right;\">\n",
              "      <th></th>\n",
              "      <th>Date</th>\n",
              "      <th>Total Equity</th>\n",
              "      <th>Domestic Equity</th>\n",
              "      <th>World Equity</th>\n",
              "      <th>Hybrid</th>\n",
              "      <th>Total Bond</th>\n",
              "      <th>Taxable Bond</th>\n",
              "      <th>Municipal Bond</th>\n",
              "      <th>Total</th>\n",
              "    </tr>\n",
              "  </thead>\n",
              "  <tbody>\n",
              "    <tr>\n",
              "      <th>0</th>\n",
              "      <td>2012-12-05</td>\n",
              "      <td>-7426</td>\n",
              "      <td>-6060</td>\n",
              "      <td>-1367</td>\n",
              "      <td>-74</td>\n",
              "      <td>5317</td>\n",
              "      <td>4210</td>\n",
              "      <td>1107</td>\n",
              "      <td>-2183</td>\n",
              "    </tr>\n",
              "    <tr>\n",
              "      <th>1</th>\n",
              "      <td>2012-12-12</td>\n",
              "      <td>-8783</td>\n",
              "      <td>-7520</td>\n",
              "      <td>-1263</td>\n",
              "      <td>123</td>\n",
              "      <td>1818</td>\n",
              "      <td>1598</td>\n",
              "      <td>219</td>\n",
              "      <td>-6842</td>\n",
              "    </tr>\n",
              "    <tr>\n",
              "      <th>2</th>\n",
              "      <td>2012-12-19</td>\n",
              "      <td>-5496</td>\n",
              "      <td>-5470</td>\n",
              "      <td>-26</td>\n",
              "      <td>-73</td>\n",
              "      <td>103</td>\n",
              "      <td>3472</td>\n",
              "      <td>-3369</td>\n",
              "      <td>-5466</td>\n",
              "    </tr>\n",
              "    <tr>\n",
              "      <th>3</th>\n",
              "      <td>2012-12-26</td>\n",
              "      <td>-4451</td>\n",
              "      <td>-4076</td>\n",
              "      <td>-375</td>\n",
              "      <td>550</td>\n",
              "      <td>2610</td>\n",
              "      <td>3333</td>\n",
              "      <td>-722</td>\n",
              "      <td>-1291</td>\n",
              "    </tr>\n",
              "    <tr>\n",
              "      <th>4</th>\n",
              "      <td>2013-01-02</td>\n",
              "      <td>-11156</td>\n",
              "      <td>-9622</td>\n",
              "      <td>-1533</td>\n",
              "      <td>-158</td>\n",
              "      <td>2383</td>\n",
              "      <td>2103</td>\n",
              "      <td>280</td>\n",
              "      <td>-8931</td>\n",
              "    </tr>\n",
              "  </tbody>\n",
              "</table>\n",
              "</div>"
            ],
            "text/plain": [
              "         Date  Total Equity  Domestic Equity  World Equity  Hybrid  \\\n",
              "0  2012-12-05         -7426            -6060         -1367     -74   \n",
              "1  2012-12-12         -8783            -7520         -1263     123   \n",
              "2  2012-12-19         -5496            -5470           -26     -73   \n",
              "3  2012-12-26         -4451            -4076          -375     550   \n",
              "4  2013-01-02        -11156            -9622         -1533    -158   \n",
              "\n",
              "   Total Bond  Taxable Bond  Municipal Bond  Total  \n",
              "0        5317          4210            1107  -2183  \n",
              "1        1818          1598             219  -6842  \n",
              "2         103          3472           -3369  -5466  \n",
              "3        2610          3333            -722  -1291  \n",
              "4        2383          2103             280  -8931  "
            ]
          },
          "metadata": {
            "tags": []
          },
          "execution_count": 4
        }
      ]
    },
    {
      "metadata": {
        "id": "nOzWcGvbKKJk",
        "colab_type": "text"
      },
      "cell_type": "markdown",
      "source": [
        "## Step 4. What is the frequency of the dataset?"
      ]
    },
    {
      "metadata": {
        "id": "6Vt1tQIjLovV",
        "colab_type": "code",
        "colab": {}
      },
      "cell_type": "code",
      "source": [
        "#weekly data"
      ],
      "execution_count": 0,
      "outputs": []
    },
    {
      "metadata": {
        "id": "9bIx8ux8KMuc",
        "colab_type": "text"
      },
      "cell_type": "markdown",
      "source": [
        "##  Step 5. Set the column Date as the index."
      ]
    },
    {
      "metadata": {
        "id": "LgJ_iPpmKOz0",
        "colab_type": "code",
        "colab": {
          "base_uri": "https://localhost:8080/",
          "height": 238
        },
        "outputId": "6634092e-1e81-448b-87d1-70cf175e9684"
      },
      "cell_type": "code",
      "source": [
        "df.set_index('Date', inplace=True)\n",
        "\n",
        "df.head()"
      ],
      "execution_count": 5,
      "outputs": [
        {
          "output_type": "execute_result",
          "data": {
            "text/html": [
              "<div>\n",
              "<style scoped>\n",
              "    .dataframe tbody tr th:only-of-type {\n",
              "        vertical-align: middle;\n",
              "    }\n",
              "\n",
              "    .dataframe tbody tr th {\n",
              "        vertical-align: top;\n",
              "    }\n",
              "\n",
              "    .dataframe thead th {\n",
              "        text-align: right;\n",
              "    }\n",
              "</style>\n",
              "<table border=\"1\" class=\"dataframe\">\n",
              "  <thead>\n",
              "    <tr style=\"text-align: right;\">\n",
              "      <th></th>\n",
              "      <th>Total Equity</th>\n",
              "      <th>Domestic Equity</th>\n",
              "      <th>World Equity</th>\n",
              "      <th>Hybrid</th>\n",
              "      <th>Total Bond</th>\n",
              "      <th>Taxable Bond</th>\n",
              "      <th>Municipal Bond</th>\n",
              "      <th>Total</th>\n",
              "    </tr>\n",
              "    <tr>\n",
              "      <th>Date</th>\n",
              "      <th></th>\n",
              "      <th></th>\n",
              "      <th></th>\n",
              "      <th></th>\n",
              "      <th></th>\n",
              "      <th></th>\n",
              "      <th></th>\n",
              "      <th></th>\n",
              "    </tr>\n",
              "  </thead>\n",
              "  <tbody>\n",
              "    <tr>\n",
              "      <th>2012-12-05</th>\n",
              "      <td>-7426</td>\n",
              "      <td>-6060</td>\n",
              "      <td>-1367</td>\n",
              "      <td>-74</td>\n",
              "      <td>5317</td>\n",
              "      <td>4210</td>\n",
              "      <td>1107</td>\n",
              "      <td>-2183</td>\n",
              "    </tr>\n",
              "    <tr>\n",
              "      <th>2012-12-12</th>\n",
              "      <td>-8783</td>\n",
              "      <td>-7520</td>\n",
              "      <td>-1263</td>\n",
              "      <td>123</td>\n",
              "      <td>1818</td>\n",
              "      <td>1598</td>\n",
              "      <td>219</td>\n",
              "      <td>-6842</td>\n",
              "    </tr>\n",
              "    <tr>\n",
              "      <th>2012-12-19</th>\n",
              "      <td>-5496</td>\n",
              "      <td>-5470</td>\n",
              "      <td>-26</td>\n",
              "      <td>-73</td>\n",
              "      <td>103</td>\n",
              "      <td>3472</td>\n",
              "      <td>-3369</td>\n",
              "      <td>-5466</td>\n",
              "    </tr>\n",
              "    <tr>\n",
              "      <th>2012-12-26</th>\n",
              "      <td>-4451</td>\n",
              "      <td>-4076</td>\n",
              "      <td>-375</td>\n",
              "      <td>550</td>\n",
              "      <td>2610</td>\n",
              "      <td>3333</td>\n",
              "      <td>-722</td>\n",
              "      <td>-1291</td>\n",
              "    </tr>\n",
              "    <tr>\n",
              "      <th>2013-01-02</th>\n",
              "      <td>-11156</td>\n",
              "      <td>-9622</td>\n",
              "      <td>-1533</td>\n",
              "      <td>-158</td>\n",
              "      <td>2383</td>\n",
              "      <td>2103</td>\n",
              "      <td>280</td>\n",
              "      <td>-8931</td>\n",
              "    </tr>\n",
              "  </tbody>\n",
              "</table>\n",
              "</div>"
            ],
            "text/plain": [
              "            Total Equity  Domestic Equity  World Equity  Hybrid  Total Bond  \\\n",
              "Date                                                                          \n",
              "2012-12-05         -7426            -6060         -1367     -74        5317   \n",
              "2012-12-12         -8783            -7520         -1263     123        1818   \n",
              "2012-12-19         -5496            -5470           -26     -73         103   \n",
              "2012-12-26         -4451            -4076          -375     550        2610   \n",
              "2013-01-02        -11156            -9622         -1533    -158        2383   \n",
              "\n",
              "            Taxable Bond  Municipal Bond  Total  \n",
              "Date                                             \n",
              "2012-12-05          4210            1107  -2183  \n",
              "2012-12-12          1598             219  -6842  \n",
              "2012-12-19          3472           -3369  -5466  \n",
              "2012-12-26          3333            -722  -1291  \n",
              "2013-01-02          2103             280  -8931  "
            ]
          },
          "metadata": {
            "tags": []
          },
          "execution_count": 5
        }
      ]
    },
    {
      "metadata": {
        "id": "z9W7inZTKPEt",
        "colab_type": "text"
      },
      "cell_type": "markdown",
      "source": [
        "## Step 6. What is the type of the index?"
      ]
    },
    {
      "metadata": {
        "id": "P5TydbWWKTHV",
        "colab_type": "code",
        "colab": {
          "base_uri": "https://localhost:8080/",
          "height": 35
        },
        "outputId": "f4fe3ead-fe01-48b1-e524-cbbbd3d973f8"
      },
      "cell_type": "code",
      "source": [
        "df.index.dtype"
      ],
      "execution_count": 6,
      "outputs": [
        {
          "output_type": "execute_result",
          "data": {
            "text/plain": [
              "dtype('O')"
            ]
          },
          "metadata": {
            "tags": []
          },
          "execution_count": 6
        }
      ]
    },
    {
      "metadata": {
        "id": "dovsRJsmKTMP",
        "colab_type": "text"
      },
      "cell_type": "markdown",
      "source": [
        "##  Step 7. Set the index to a DatetimeIndex type"
      ]
    },
    {
      "metadata": {
        "id": "-jtHmCjxKZjB",
        "colab_type": "code",
        "colab": {}
      },
      "cell_type": "code",
      "source": [
        "df.index = pd.to_datetime(df.index)"
      ],
      "execution_count": 0,
      "outputs": []
    },
    {
      "metadata": {
        "id": "aO3tdbCRKaAR",
        "colab_type": "text"
      },
      "cell_type": "markdown",
      "source": [
        "## Step 8. Change the frequency to monthly, sum the values and assign it to monthly."
      ]
    },
    {
      "metadata": {
        "id": "um5K0Dq4KcT1",
        "colab_type": "code",
        "colab": {
          "base_uri": "https://localhost:8080/",
          "height": 238
        },
        "outputId": "e82c89a0-4b1d-47fc-ed40-6bea5e4d34b0"
      },
      "cell_type": "code",
      "source": [
        "monthly = df.resample('M').sum()\n",
        "monthly.head()"
      ],
      "execution_count": 8,
      "outputs": [
        {
          "output_type": "execute_result",
          "data": {
            "text/html": [
              "<div>\n",
              "<style scoped>\n",
              "    .dataframe tbody tr th:only-of-type {\n",
              "        vertical-align: middle;\n",
              "    }\n",
              "\n",
              "    .dataframe tbody tr th {\n",
              "        vertical-align: top;\n",
              "    }\n",
              "\n",
              "    .dataframe thead th {\n",
              "        text-align: right;\n",
              "    }\n",
              "</style>\n",
              "<table border=\"1\" class=\"dataframe\">\n",
              "  <thead>\n",
              "    <tr style=\"text-align: right;\">\n",
              "      <th></th>\n",
              "      <th>Total Equity</th>\n",
              "      <th>Domestic Equity</th>\n",
              "      <th>World Equity</th>\n",
              "      <th>Hybrid</th>\n",
              "      <th>Total Bond</th>\n",
              "      <th>Taxable Bond</th>\n",
              "      <th>Municipal Bond</th>\n",
              "      <th>Total</th>\n",
              "    </tr>\n",
              "    <tr>\n",
              "      <th>Date</th>\n",
              "      <th></th>\n",
              "      <th></th>\n",
              "      <th></th>\n",
              "      <th></th>\n",
              "      <th></th>\n",
              "      <th></th>\n",
              "      <th></th>\n",
              "      <th></th>\n",
              "    </tr>\n",
              "  </thead>\n",
              "  <tbody>\n",
              "    <tr>\n",
              "      <th>2012-12-31</th>\n",
              "      <td>-26156</td>\n",
              "      <td>-23126</td>\n",
              "      <td>-3031</td>\n",
              "      <td>526</td>\n",
              "      <td>9848</td>\n",
              "      <td>12613</td>\n",
              "      <td>-2765</td>\n",
              "      <td>-15782</td>\n",
              "    </tr>\n",
              "    <tr>\n",
              "      <th>2013-01-31</th>\n",
              "      <td>3661</td>\n",
              "      <td>-1627</td>\n",
              "      <td>5288</td>\n",
              "      <td>2730</td>\n",
              "      <td>12149</td>\n",
              "      <td>9414</td>\n",
              "      <td>2735</td>\n",
              "      <td>18540</td>\n",
              "    </tr>\n",
              "    <tr>\n",
              "      <th>2013-02-28</th>\n",
              "      <td>0</td>\n",
              "      <td>0</td>\n",
              "      <td>0</td>\n",
              "      <td>0</td>\n",
              "      <td>0</td>\n",
              "      <td>0</td>\n",
              "      <td>0</td>\n",
              "      <td>0</td>\n",
              "    </tr>\n",
              "    <tr>\n",
              "      <th>2013-03-31</th>\n",
              "      <td>0</td>\n",
              "      <td>0</td>\n",
              "      <td>0</td>\n",
              "      <td>0</td>\n",
              "      <td>0</td>\n",
              "      <td>0</td>\n",
              "      <td>0</td>\n",
              "      <td>0</td>\n",
              "    </tr>\n",
              "    <tr>\n",
              "      <th>2013-04-30</th>\n",
              "      <td>0</td>\n",
              "      <td>0</td>\n",
              "      <td>0</td>\n",
              "      <td>0</td>\n",
              "      <td>0</td>\n",
              "      <td>0</td>\n",
              "      <td>0</td>\n",
              "      <td>0</td>\n",
              "    </tr>\n",
              "  </tbody>\n",
              "</table>\n",
              "</div>"
            ],
            "text/plain": [
              "            Total Equity  Domestic Equity  World Equity  Hybrid  Total Bond  \\\n",
              "Date                                                                          \n",
              "2012-12-31        -26156           -23126         -3031     526        9848   \n",
              "2013-01-31          3661            -1627          5288    2730       12149   \n",
              "2013-02-28             0                0             0       0           0   \n",
              "2013-03-31             0                0             0       0           0   \n",
              "2013-04-30             0                0             0       0           0   \n",
              "\n",
              "            Taxable Bond  Municipal Bond  Total  \n",
              "Date                                             \n",
              "2012-12-31         12613           -2765 -15782  \n",
              "2013-01-31          9414            2735  18540  \n",
              "2013-02-28             0               0      0  \n",
              "2013-03-31             0               0      0  \n",
              "2013-04-30             0               0      0  "
            ]
          },
          "metadata": {
            "tags": []
          },
          "execution_count": 8
        }
      ]
    },
    {
      "metadata": {
        "id": "zSpnXu0QKcZa",
        "colab_type": "text"
      },
      "cell_type": "markdown",
      "source": [
        "## Step 9. You will notice that it filled the dataFrame with months that don't have any data with NaN. Let's drop these rows."
      ]
    },
    {
      "metadata": {
        "id": "mpzrGovwKe6o",
        "colab_type": "code",
        "colab": {
          "base_uri": "https://localhost:8080/",
          "height": 238
        },
        "outputId": "8e379f71-9d29-4c28-f1f7-428fd5f0636a"
      },
      "cell_type": "code",
      "source": [
        "monthly = monthly[monthly['Total Equity'] != 0]\n",
        "monthly.head()"
      ],
      "execution_count": 14,
      "outputs": [
        {
          "output_type": "execute_result",
          "data": {
            "text/html": [
              "<div>\n",
              "<style scoped>\n",
              "    .dataframe tbody tr th:only-of-type {\n",
              "        vertical-align: middle;\n",
              "    }\n",
              "\n",
              "    .dataframe tbody tr th {\n",
              "        vertical-align: top;\n",
              "    }\n",
              "\n",
              "    .dataframe thead th {\n",
              "        text-align: right;\n",
              "    }\n",
              "</style>\n",
              "<table border=\"1\" class=\"dataframe\">\n",
              "  <thead>\n",
              "    <tr style=\"text-align: right;\">\n",
              "      <th></th>\n",
              "      <th>Total Equity</th>\n",
              "      <th>Domestic Equity</th>\n",
              "      <th>World Equity</th>\n",
              "      <th>Hybrid</th>\n",
              "      <th>Total Bond</th>\n",
              "      <th>Taxable Bond</th>\n",
              "      <th>Municipal Bond</th>\n",
              "      <th>Total</th>\n",
              "    </tr>\n",
              "    <tr>\n",
              "      <th>Date</th>\n",
              "      <th></th>\n",
              "      <th></th>\n",
              "      <th></th>\n",
              "      <th></th>\n",
              "      <th></th>\n",
              "      <th></th>\n",
              "      <th></th>\n",
              "      <th></th>\n",
              "    </tr>\n",
              "  </thead>\n",
              "  <tbody>\n",
              "    <tr>\n",
              "      <th>2012-12-31</th>\n",
              "      <td>-26156</td>\n",
              "      <td>-23126</td>\n",
              "      <td>-3031</td>\n",
              "      <td>526</td>\n",
              "      <td>9848</td>\n",
              "      <td>12613</td>\n",
              "      <td>-2765</td>\n",
              "      <td>-15782</td>\n",
              "    </tr>\n",
              "    <tr>\n",
              "      <th>2013-01-31</th>\n",
              "      <td>3661</td>\n",
              "      <td>-1627</td>\n",
              "      <td>5288</td>\n",
              "      <td>2730</td>\n",
              "      <td>12149</td>\n",
              "      <td>9414</td>\n",
              "      <td>2735</td>\n",
              "      <td>18540</td>\n",
              "    </tr>\n",
              "    <tr>\n",
              "      <th>2014-04-30</th>\n",
              "      <td>10842</td>\n",
              "      <td>1048</td>\n",
              "      <td>9794</td>\n",
              "      <td>4931</td>\n",
              "      <td>8493</td>\n",
              "      <td>7193</td>\n",
              "      <td>1300</td>\n",
              "      <td>24267</td>\n",
              "    </tr>\n",
              "    <tr>\n",
              "      <th>2014-05-31</th>\n",
              "      <td>-2203</td>\n",
              "      <td>-8720</td>\n",
              "      <td>6518</td>\n",
              "      <td>3172</td>\n",
              "      <td>13767</td>\n",
              "      <td>10192</td>\n",
              "      <td>3576</td>\n",
              "      <td>14736</td>\n",
              "    </tr>\n",
              "    <tr>\n",
              "      <th>2014-06-30</th>\n",
              "      <td>2319</td>\n",
              "      <td>-6546</td>\n",
              "      <td>8865</td>\n",
              "      <td>4588</td>\n",
              "      <td>9715</td>\n",
              "      <td>7551</td>\n",
              "      <td>2163</td>\n",
              "      <td>16621</td>\n",
              "    </tr>\n",
              "  </tbody>\n",
              "</table>\n",
              "</div>"
            ],
            "text/plain": [
              "            Total Equity  Domestic Equity  World Equity  Hybrid  Total Bond  \\\n",
              "Date                                                                          \n",
              "2012-12-31        -26156           -23126         -3031     526        9848   \n",
              "2013-01-31          3661            -1627          5288    2730       12149   \n",
              "2014-04-30         10842             1048          9794    4931        8493   \n",
              "2014-05-31         -2203            -8720          6518    3172       13767   \n",
              "2014-06-30          2319            -6546          8865    4588        9715   \n",
              "\n",
              "            Taxable Bond  Municipal Bond  Total  \n",
              "Date                                             \n",
              "2012-12-31         12613           -2765 -15782  \n",
              "2013-01-31          9414            2735  18540  \n",
              "2014-04-30          7193            1300  24267  \n",
              "2014-05-31         10192            3576  14736  \n",
              "2014-06-30          7551            2163  16621  "
            ]
          },
          "metadata": {
            "tags": []
          },
          "execution_count": 14
        }
      ]
    },
    {
      "metadata": {
        "id": "meqmCUiUKe_q",
        "colab_type": "text"
      },
      "cell_type": "markdown",
      "source": [
        "## Step 10. Good, now we have the monthly data. Now change the frequency to year."
      ]
    },
    {
      "metadata": {
        "id": "4wzpcenyKiYQ",
        "colab_type": "code",
        "colab": {
          "base_uri": "https://localhost:8080/",
          "height": 206
        },
        "outputId": "27cab715-50f0-42b1-cd61-924fd55bc8a7"
      },
      "cell_type": "code",
      "source": [
        "yearly = df.resample('AS-JAN').sum()\n",
        "yearly"
      ],
      "execution_count": 17,
      "outputs": [
        {
          "output_type": "execute_result",
          "data": {
            "text/html": [
              "<div>\n",
              "<style scoped>\n",
              "    .dataframe tbody tr th:only-of-type {\n",
              "        vertical-align: middle;\n",
              "    }\n",
              "\n",
              "    .dataframe tbody tr th {\n",
              "        vertical-align: top;\n",
              "    }\n",
              "\n",
              "    .dataframe thead th {\n",
              "        text-align: right;\n",
              "    }\n",
              "</style>\n",
              "<table border=\"1\" class=\"dataframe\">\n",
              "  <thead>\n",
              "    <tr style=\"text-align: right;\">\n",
              "      <th></th>\n",
              "      <th>Total Equity</th>\n",
              "      <th>Domestic Equity</th>\n",
              "      <th>World Equity</th>\n",
              "      <th>Hybrid</th>\n",
              "      <th>Total Bond</th>\n",
              "      <th>Taxable Bond</th>\n",
              "      <th>Municipal Bond</th>\n",
              "      <th>Total</th>\n",
              "    </tr>\n",
              "    <tr>\n",
              "      <th>Date</th>\n",
              "      <th></th>\n",
              "      <th></th>\n",
              "      <th></th>\n",
              "      <th></th>\n",
              "      <th></th>\n",
              "      <th></th>\n",
              "      <th></th>\n",
              "      <th></th>\n",
              "    </tr>\n",
              "  </thead>\n",
              "  <tbody>\n",
              "    <tr>\n",
              "      <th>2012-01-01</th>\n",
              "      <td>-26156</td>\n",
              "      <td>-23126</td>\n",
              "      <td>-3031</td>\n",
              "      <td>526</td>\n",
              "      <td>9848</td>\n",
              "      <td>12613</td>\n",
              "      <td>-2765</td>\n",
              "      <td>-15782</td>\n",
              "    </tr>\n",
              "    <tr>\n",
              "      <th>2013-01-01</th>\n",
              "      <td>3661</td>\n",
              "      <td>-1627</td>\n",
              "      <td>5288</td>\n",
              "      <td>2730</td>\n",
              "      <td>12149</td>\n",
              "      <td>9414</td>\n",
              "      <td>2735</td>\n",
              "      <td>18540</td>\n",
              "    </tr>\n",
              "    <tr>\n",
              "      <th>2014-01-01</th>\n",
              "      <td>330</td>\n",
              "      <td>-44689</td>\n",
              "      <td>45021</td>\n",
              "      <td>19570</td>\n",
              "      <td>59890</td>\n",
              "      <td>44994</td>\n",
              "      <td>14896</td>\n",
              "      <td>79787</td>\n",
              "    </tr>\n",
              "    <tr>\n",
              "      <th>2015-01-01</th>\n",
              "      <td>15049</td>\n",
              "      <td>-10459</td>\n",
              "      <td>25508</td>\n",
              "      <td>7280</td>\n",
              "      <td>26028</td>\n",
              "      <td>17986</td>\n",
              "      <td>8041</td>\n",
              "      <td>48357</td>\n",
              "    </tr>\n",
              "  </tbody>\n",
              "</table>\n",
              "</div>"
            ],
            "text/plain": [
              "            Total Equity  Domestic Equity  World Equity  Hybrid  Total Bond  \\\n",
              "Date                                                                          \n",
              "2012-01-01        -26156           -23126         -3031     526        9848   \n",
              "2013-01-01          3661            -1627          5288    2730       12149   \n",
              "2014-01-01           330           -44689         45021   19570       59890   \n",
              "2015-01-01         15049           -10459         25508    7280       26028   \n",
              "\n",
              "            Taxable Bond  Municipal Bond  Total  \n",
              "Date                                             \n",
              "2012-01-01         12613           -2765 -15782  \n",
              "2013-01-01          9414            2735  18540  \n",
              "2014-01-01         44994           14896  79787  \n",
              "2015-01-01         17986            8041  48357  "
            ]
          },
          "metadata": {
            "tags": []
          },
          "execution_count": 17
        }
      ]
    }
  ]
}